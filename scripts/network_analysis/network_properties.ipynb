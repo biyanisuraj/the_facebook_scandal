{
 "cells": [
  {
   "cell_type": "code",
   "execution_count": 1,
   "metadata": {
    "autoscroll": false,
    "collapsed": false,
    "ein.tags": "worksheet-0",
    "slideshow": {
     "slide_type": "-"
    }
   },
   "outputs": [],
   "source": [
    "import collections\n",
    "import networkx as nx\n",
    "import numpy as np\n",
    "import os\n",
    "import random\n",
    "from sklearn import linear_model\n",
    "import json as json"
   ]
  },
  {
   "cell_type": "code",
   "execution_count": 61,
   "metadata": {
    "autoscroll": false,
    "collapsed": false,
    "ein.tags": "worksheet-0",
    "slideshow": {
     "slide_type": "-"
    }
   },
   "outputs": [],
   "source": [
    "# plot settings\n",
    "import matplotlib.pyplot as plt\n",
    "\n",
    "FIGSIZE_TWOCOL = (9,4)\n",
    "FIGSIZE_ONECOL = (5,4)\n",
    "\n",
    "SMALL_SIZE = 13\n",
    "MEDIUM_SIZE = 15\n",
    "BIGGER_SIZE = 20\n",
    "\n",
    "plt.rc('font', size= MEDIUM_SIZE)          # controls default text sizes\n",
    "plt.rc('axes', titlesize= MEDIUM_SIZE)     # fontsize of the axes title\n",
    "plt.rc('axes', labelsize= MEDIUM_SIZE)    # fontsize of the x and y labels\n",
    "plt.rc('xtick', labelsize=SMALL_SIZE)    # fontsize of the tick labels\n",
    "plt.rc('ytick', labelsize=SMALL_SIZE)    # fontsize of the tick labels\n",
    "plt.rc('legend', fontsize=SMALL_SIZE)    # legend fontsize\n",
    "plt.rc('figure', titlesize=BIGGER_SIZE)  # fontsize of the figure title\n"
   ]
  },
  {
   "cell_type": "markdown",
   "metadata": {
    "ein.tags": "worksheet-0",
    "slideshow": {
     "slide_type": "-"
    }
   },
   "source": [
    "# Statistiche generali"
   ]
  },
  {
   "cell_type": "code",
   "execution_count": 4,
   "metadata": {
    "autoscroll": false,
    "collapsed": false,
    "ein.tags": "worksheet-0",
    "slideshow": {
     "slide_type": "-"
    }
   },
   "outputs": [],
   "source": [
    "g = nx.read_edgelist('../network/networks/edge_list.txt',\n",
    "                     create_using=nx.DiGraph(), nodetype=int, data=False)"
   ]
  },
  {
   "cell_type": "code",
   "execution_count": 17,
   "metadata": {
    "autoscroll": false,
    "collapsed": false,
    "ein.tags": "worksheet-0",
    "slideshow": {
     "slide_type": "-"
    }
   },
   "outputs": [],
   "source": [
    "# network undirected\n",
    "g_und = g.to_undirected()"
   ]
  },
  {
   "cell_type": "code",
   "execution_count": 41,
   "metadata": {
    "autoscroll": false,
    "collapsed": false,
    "ein.tags": "worksheet-0",
    "slideshow": {
     "slide_type": "-"
    }
   },
   "outputs": [],
   "source": [
    "# Erdos-Renyi random network\n",
    "g_er = nx.read_edgelist('../network/networks/er_edge_list.txt',\n",
    "                                create_using=nx.DiGraph(), nodetype=int,\n",
    "                                data=False)"
   ]
  },
  {
   "cell_type": "code",
   "execution_count": 18,
   "metadata": {
    "autoscroll": false,
    "collapsed": false,
    "ein.tags": "worksheet-0",
    "slideshow": {
     "slide_type": "-"
    }
   },
   "outputs": [],
   "source": [
    "# Barabasi-Albert network\n",
    "g_ba = nx.read_edgelist('../network/networks/ba_edge_list.txt',\n",
    "                        create_using=nx.Graph(), nodetype=int,\n",
    "                        data=False)\n"
   ]
  },
  {
   "cell_type": "code",
   "execution_count": 20,
   "metadata": {
    "autoscroll": false,
    "collapsed": false,
    "ein.tags": "worksheet-0",
    "slideshow": {
     "slide_type": "-"
    }
   },
   "outputs": [],
   "source": [
    "def network_summary(g, directed=True):\n",
    "    \"\"\" returns dictionary with the network informations\"\"\"\n",
    "\n",
    "    if(directed):\n",
    "        \"\"\"undirected graph statistics for directed graph, \n",
    "        NOTE: reciprocal links are lost\"\"\"\n",
    "        g_und = g.to_undirected()\n",
    "    else:\n",
    "        g_und = g\n",
    "        \n",
    "    g_info= {}\n",
    "    g_info['N'] = nx.number_of_nodes(g)\n",
    "    g_info['L'] = nx.number_of_edges(g)\n",
    "    g_info['density'] = nx.density(g).round(5)\n",
    "    \n",
    "    degrees_und = [d for n,d in g_und.degree()]\n",
    "\n",
    "    g_info['k_avg_und'] = int(np.mean(degrees_und))\n",
    "    g_info['k_max_und'] = np.max(degrees_und)\n",
    "    g_info['k_min_und'] = np.min(degrees_und)\n",
    "    \n",
    "    \n",
    "    if(directed):\n",
    "        \n",
    "        in_degrees = [d for n, d in g.in_degree()]\n",
    "        out_degrees = [d for n, d in g.out_degree()]\n",
    "        degrees = [d for n,d in g.degree()]\n",
    "\n",
    "        g_info['k_avg'] = int(np.mean(in_degrees))\n",
    "        g_info['k_in_max'] = np.max(in_degrees)\n",
    "        g_info['k_in_min'] = np.min(in_degrees)\n",
    "        g_info['k_out_max'] = np.max(out_degrees)\n",
    "        g_info['k_out_min'] = np.min(out_degrees)\n",
    "        g_info['k_max'] = np.max(degrees)\n",
    "        g_info['k_min'] = np.min(degrees)\n",
    "\n",
    "        \n",
    "    return g_info"
   ]
  },
  {
   "cell_type": "code",
   "execution_count": 180,
   "metadata": {
    "autoscroll": false,
    "collapsed": false,
    "ein.tags": "worksheet-0",
    "slideshow": {
     "slide_type": "-"
    }
   },
   "outputs": [],
   "source": [
    "def network_summary(g, directed=True):\n",
    "    \"\"\" returns dictionary with the network informations\"\"\"\n",
    "        \n",
    "    g_info= {}\n",
    "    g_info['N'] = nx.number_of_nodes(g)\n",
    "    g_info['L'] = nx.number_of_edges(g)\n",
    "    g_info['density'] = round(nx.density(g),5)\n",
    "    \n",
    "    if(directed):\n",
    "        in_degrees = [d for n, d in g.in_degree()]\n",
    "        out_degrees = [d for n, d in g.out_degree()]\n",
    "        degrees = [d for n,d in g.degree()]\n",
    "        g_info['k_avg'] = int(np.mean(in_degrees))\n",
    "        g_info['k_in_max'] = np.max(in_degrees)\n",
    "        g_info['k_in_min'] = np.min(in_degrees)\n",
    "        g_info['k_out_max'] = np.max(out_degrees)\n",
    "        g_info['k_out_min'] = np.min(out_degrees)\n",
    "        g_info['k_max'] = np.max(degrees)\n",
    "        g_info['k_min'] = np.min(degrees)\n",
    "    else:\n",
    "        degrees = [d for n,d in g.degree()]\n",
    "        g_info['k_avg'] = int(np.mean(degrees))\n",
    "        g_info['k_max'] = np.max(degrees)\n",
    "        g_info['k_min'] = np.min(degrees)\n",
    "        \n",
    "    return g_info"
   ]
  },
  {
   "cell_type": "code",
   "execution_count": 181,
   "metadata": {
    "autoscroll": false,
    "collapsed": false,
    "ein.tags": "worksheet-0",
    "slideshow": {
     "slide_type": "-"
    }
   },
   "outputs": [],
   "source": [
    "g_info = network_summary(g, directed = True)"
   ]
  },
  {
   "cell_type": "code",
   "execution_count": 182,
   "metadata": {
    "autoscroll": false,
    "collapsed": false,
    "ein.tags": "worksheet-0",
    "slideshow": {
     "slide_type": "-"
    }
   },
   "outputs": [],
   "source": [
    "g_und_info = network_summary(g_und, directed = False)"
   ]
  },
  {
   "cell_type": "code",
   "execution_count": 183,
   "metadata": {
    "autoscroll": false,
    "collapsed": false,
    "ein.tags": "worksheet-0",
    "slideshow": {
     "slide_type": "-"
    }
   },
   "outputs": [
    {
     "name": "stdout",
     "output_type": "stream",
     "text": [
      "{'density': 0.00088, 'L': 1895878, 'k_min': 1, 'k_max': 19065, 'k_avg': 57, 'N': 65729}\n"
     ]
    }
   ],
   "source": [
    "print g_und_info"
   ]
  },
  {
   "cell_type": "code",
   "execution_count": 184,
   "metadata": {
    "autoscroll": false,
    "collapsed": false,
    "ein.tags": "worksheet-0",
    "slideshow": {
     "slide_type": "-"
    }
   },
   "outputs": [],
   "source": [
    "g_er_info = network_summary(g_er, directed = True)"
   ]
  },
  {
   "cell_type": "code",
   "execution_count": 185,
   "metadata": {
    "autoscroll": false,
    "collapsed": false,
    "ein.tags": "worksheet-0",
    "slideshow": {
     "slide_type": "-"
    }
   },
   "outputs": [],
   "source": [
    "g_ba_info = network_summary(g_ba , directed = False)"
   ]
  },
  {
   "cell_type": "code",
   "execution_count": 29,
   "metadata": {
    "autoscroll": false,
    "collapsed": false,
    "ein.tags": "worksheet-0",
    "slideshow": {
     "slide_type": "-"
    }
   },
   "outputs": [
    {
     "data": {
      "text/plain": [
       "0.0011562628367995861"
      ]
     },
     "execution_count": 29,
     "metadata": {},
     "output_type": "execute_result"
    }
   ],
   "source": [
    "## choosing erdos-renyi probability\n",
    "probER=float(g_und_info['k_avg'])/(g_info['N'])\n",
    "probER"
   ]
  },
  {
   "cell_type": "code",
   "execution_count": 30,
   "metadata": {
    "autoscroll": false,
    "collapsed": false,
    "ein.tags": "worksheet-0",
    "slideshow": {
     "slide_type": "-"
    }
   },
   "outputs": [
    {
     "data": {
      "text/plain": [
       "0.001158157640820872"
      ]
     },
     "execution_count": 30,
     "metadata": {},
     "output_type": "execute_result"
    }
   ],
   "source": [
    "N = g_info['N']\n",
    "L = g_info['L']\n",
    "L_max = N*(N-1)/2\n",
    "float(L)/L_max"
   ]
  },
  {
   "cell_type": "markdown",
   "metadata": {
    "ein.tags": "worksheet-0",
    "slideshow": {
     "slide_type": "-"
    }
   },
   "source": [
    "# Degree distribution"
   ]
  },
  {
   "cell_type": "code",
   "execution_count": 62,
   "metadata": {
    "autoscroll": false,
    "collapsed": false,
    "ein.tags": "worksheet-0",
    "slideshow": {
     "slide_type": "-"
    }
   },
   "outputs": [],
   "source": [
    "in_degrees = [d for n, d in g.in_degree()]\n",
    "out_degrees = [d for n, d in g.out_degree()]\n",
    "degrees =[d for n,d in g.degree()]\n",
    "\n",
    "# ordinamento\n",
    "in_degrees.sort(reverse=True)\n",
    "out_degrees.sort(reverse=True)\n",
    "degrees.sort(reverse=True)"
   ]
  },
  {
   "cell_type": "markdown",
   "metadata": {
    "ein.tags": "worksheet-0",
    "slideshow": {
     "slide_type": "-"
    }
   },
   "source": [
    "## Logarithmic binning"
   ]
  },
  {
   "cell_type": "code",
   "execution_count": 63,
   "metadata": {
    "autoscroll": false,
    "collapsed": false,
    "ein.tags": "worksheet-0",
    "slideshow": {
     "slide_type": "-"
    }
   },
   "outputs": [],
   "source": [
    "def log_binning(degrees, b=2, prob=True, split = False):\n",
    "    \"\"\"\n",
    "    computing the degree distribution using log binning\n",
    "    input:\n",
    "    - degrees: list of the degrees\n",
    "    - b=2: base step for the bins\n",
    "    - prob=True, return the probabilities\n",
    "    output:\n",
    "    - degree_means\n",
    "    - degree_probs\n",
    "    if(prob=False) returns the counts \n",
    "\n",
    "    Example:\n",
    "    degrees=list(range(16))\n",
    "    means,probs= log_binning(degrees)\n",
    "    print means\n",
    "    print probs\n",
    "    \"\"\"\n",
    "    degrees = [d for d in degrees if d>0]\n",
    "\n",
    "    \"\"\" computing breaks \"\"\"\n",
    "    k=0\n",
    "    breaks=[]\n",
    "    while(b**(k-1)< max(degrees)):\n",
    "        breaks.append(b**k)\n",
    "        k+=1\n",
    "    breaks.append(b**k)\n",
    "\n",
    "    # splitting the degrees using the breaks\n",
    "    splitted_degrees = {}\n",
    "    for br in breaks:\n",
    "        splitted_degrees[br]=[]\n",
    "\n",
    "    for d in degrees:\n",
    "        i=1\n",
    "        #  print d\n",
    "        while(d>=breaks[i]):\n",
    "            i+=1\n",
    "        splitted_degrees[breaks[i-1]].append(d)  \n",
    "\n",
    "    # counting for each bin\n",
    "    d_counts = {}\n",
    "    for br in breaks:\n",
    "        d_counts[br]=[]\n",
    "\n",
    "    for br in breaks:\n",
    "        d_counts[br] = len(splitted_degrees[br])\n",
    "\n",
    "    counts = [d_counts[br] for br in breaks]\n",
    "\n",
    "    # computing probabilities\n",
    "    degree_probs = np.array(counts).astype(float)/(np.array(breaks)) \n",
    "    # normalization of the probabilities\n",
    "    degree_probs= (degree_probs.astype(float))/sum(degree_probs)\n",
    "\n",
    "    degree_means = [ np.mean(np.array(splitted_degrees[br])) for br in breaks ]\n",
    "    if(split):\n",
    "        return splitted_degrees\n",
    "    \n",
    "    if(prob):\n",
    "        return degree_means, degree_probs\n",
    "    else:\n",
    "        return degree_means, counts"
   ]
  },
  {
   "cell_type": "code",
   "execution_count": 64,
   "metadata": {
    "autoscroll": false,
    "collapsed": false,
    "ein.tags": "worksheet-0",
    "slideshow": {
     "slide_type": "-"
    }
   },
   "outputs": [
    {
     "name": "stdout",
     "output_type": "stream",
     "text": [
      "Help on function log_binning in module __main__:\n",
      "\n",
      "log_binning(degrees, b=2, prob=True, split=False)\n",
      "    computing the degree distribution using log binning\n",
      "    input:\n",
      "    - degrees: list of the degrees\n",
      "    - b=2: base step for the bins\n",
      "    - prob=True, return the probabilities\n",
      "    output:\n",
      "    - degree_means\n",
      "    - degree_probs\n",
      "    if(prob=False) returns the counts \n",
      "    \n",
      "    Example:\n",
      "    degrees=list(range(16))\n",
      "    means,probs= log_binning(degrees)\n",
      "    print means\n",
      "    print probs\n",
      "\n"
     ]
    }
   ],
   "source": [
    "help(log_binning)"
   ]
  },
  {
   "cell_type": "code",
   "execution_count": 65,
   "metadata": {
    "autoscroll": false,
    "collapsed": false,
    "ein.tags": "worksheet-0",
    "slideshow": {
     "slide_type": "-"
    }
   },
   "outputs": [
    {
     "name": "stdout",
     "output_type": "stream",
     "text": [
      "[1.0, 2.5, 5.5, 11.5, nan, nan]\n",
      "[ 0.25  0.25  0.25  0.25  0.    0.  ]\n",
      "{32: [], 1: [1], 2: [2, 3], 4: [4, 5, 6, 7], 8: [8, 9, 10, 11, 12, 13, 14, 15], 16: []}\n"
     ]
    }
   ],
   "source": [
    "degrees=list(range(16))\n",
    "means,probs= log_binning(degrees, split=False)\n",
    "print means\n",
    "print probs\n",
    "splitted= log_binning(degrees, split=True)\n",
    "print splitted"
   ]
  },
  {
   "cell_type": "code",
   "execution_count": 74,
   "metadata": {
    "autoscroll": false,
    "collapsed": false,
    "ein.tags": "worksheet-0",
    "slideshow": {
     "slide_type": "-"
    }
   },
   "outputs": [],
   "source": [
    "# total degree\n",
    "degree_counts = collections.Counter(d for d in degrees)\n",
    "degree_counts = [degree_counts.get(i, 0) for i in range(max(degree_counts) + 1) ] #if degree_counts.get(i,0)>0]\n",
    "degree= np.arange(len(degree_counts))\n",
    "degree_probs = np.array(degree_counts).astype(float)/len(degrees)"
   ]
  },
  {
   "cell_type": "code",
   "execution_count": 67,
   "metadata": {
    "autoscroll": false,
    "collapsed": false,
    "ein.tags": "worksheet-0",
    "slideshow": {
     "slide_type": "-"
    }
   },
   "outputs": [],
   "source": [
    "# out degree\n",
    "out_degrees =[d for n,d in g.out_degree()]\n",
    "\n",
    "out_degree_counts = collections.Counter(d for n, d in g.out_degree())\n",
    "out_degree_counts = [out_degree_counts.get(i, 0) for i in range(max(out_degree_counts) + 1)]\n",
    "degree_out= np.arange(len(out_degree_counts))\n",
    "out_degree_probs = np.array(out_degree_counts).astype(float)/g_info['N']"
   ]
  },
  {
   "cell_type": "code",
   "execution_count": 68,
   "metadata": {
    "autoscroll": false,
    "collapsed": false,
    "ein.tags": "worksheet-0",
    "slideshow": {
     "slide_type": "-"
    }
   },
   "outputs": [],
   "source": [
    "# in degree\n",
    "in_degree_counts = collections.Counter(d for n, d in g.in_degree())\n",
    "in_degree_counts = [in_degree_counts.get(i, 0) for i in range(max(in_degree_counts) + 1)]\n",
    "degree_in= np.arange(len(in_degree_counts))\n",
    "in_degree_probs = np.array(in_degree_counts).astype(float)/g_info['N']\n"
   ]
  },
  {
   "cell_type": "code",
   "execution_count": 69,
   "metadata": {
    "autoscroll": false,
    "collapsed": false,
    "ein.tags": "worksheet-0",
    "slideshow": {
     "slide_type": "-"
    }
   },
   "outputs": [],
   "source": [
    "# Erdos-Renyi degree\n",
    "er_degree_counts = collections.Counter(d for n, d in g_er.degree())\n",
    "er_degree_counts = [er_degree_counts.get(i, 0) for i in range(max(er_degree_counts) + 1)]\n",
    "er_degree= np.arange(len(er_degree_counts))\n",
    "er_degree_probs = np.array(er_degree_counts).astype(float)/g_info['N']"
   ]
  },
  {
   "cell_type": "code",
   "execution_count": 70,
   "metadata": {
    "autoscroll": false,
    "collapsed": false,
    "ein.tags": "worksheet-0",
    "slideshow": {
     "slide_type": "-"
    }
   },
   "outputs": [],
   "source": [
    "# Barabasi-Albert degree\n",
    "ba_degree_counts = collections.Counter(d for n, d in g_ba.degree())\n",
    "ba_degree_counts = [ba_degree_counts.get(i, 0) for i in range(max(ba_degree_counts) + 1) ]\n",
    "ba_degree= np.arange(len(ba_degree_counts))\n",
    "ba_degree_probs = np.array(ba_degree_counts).astype(float)/g_ba.number_of_nodes()"
   ]
  },
  {
   "cell_type": "code",
   "execution_count": 71,
   "metadata": {
    "autoscroll": false,
    "collapsed": false,
    "ein.tags": "worksheet-0",
    "slideshow": {
     "slide_type": "-"
    }
   },
   "outputs": [],
   "source": [
    "# proability distributions with log binning\n",
    "# tot degree\n",
    "prob = True\n",
    "degrees =[d for n,d in g.degree()]\n",
    "degree_means, degree_log_probs = log_binning(degrees, prob =prob)\n",
    "# in-degree\n",
    "in_degrees =[d for n,d in g.in_degree()]\n",
    "in_degree_means, in_degree_log_probs = log_binning(in_degrees, prob =prob)\n",
    "# out-degree\n",
    "out_degrees =[d for n,d in g.out_degree()]\n",
    "out_degree_means, out_degree_log_probs = log_binning(out_degrees , prob =prob)\n",
    "#ER-degree\n",
    "er_degrees =[d for n,d in g_er.degree()]\n",
    "er_degree_means, er_degree_log_probs = log_binning(er_degrees, prob =prob)\n",
    "#BA-degree\n",
    "ba_degrees =[d for n,d in g_ba.degree()]\n",
    "ba_degree_means, ba_degree_log_probs = log_binning(ba_degrees, prob = prob)"
   ]
  },
  {
   "cell_type": "code",
   "execution_count": 72,
   "metadata": {
    "autoscroll": false,
    "collapsed": false,
    "ein.tags": "worksheet-0",
    "slideshow": {
     "slide_type": "-"
    }
   },
   "outputs": [
    {
     "data": {
      "image/png": "[encoded data removed]",
      "text/plain": [
       "<matplotlib.figure.Figure at 0x7f1c70e94890>"
      ]
     },
     "metadata": {},
     "output_type": "display_data"
    }
   ],
   "source": [
    "fig, ax = plt.subplots(figsize=FIGSIZE_ONECOL)\n",
    "MARKERSIZE= 7\n",
    "\n",
    "# random networks\n",
    "plt.plot(er_degree_means, er_degree_log_probs, '*', color='deeppink',   label=u'Erdős–Rényi', markersize = MARKERSIZE)\n",
    "plt.plot(ba_degree_means, ba_degree_log_probs, 'o', color='orange',   label=u'Barabási-Albert', markersize = MARKERSIZE)\n",
    "# real network\n",
    "plt.plot(in_degree_means, in_degree_log_probs, '>', color='tomato',   label='In Degree', markersize = MARKERSIZE)\n",
    "plt.plot(out_degree_means, out_degree_log_probs, '<', color='blue',   label='Out Degree', markersize = MARKERSIZE)\n",
    "plt.plot(degree_means, degree_log_probs, 's', color='green',   label='Degree', markersize = MARKERSIZE)\n",
    "\n",
    "plt.plot(er_degree_means, er_degree_log_probs, '-', color='deeppink')\n",
    "plt.plot(ba_degree_means, ba_degree_log_probs, '-', color='orange')\n",
    "# real network\n",
    "plt.plot(in_degree_means, in_degree_log_probs, '-', color='tomato')\n",
    "plt.plot(out_degree_means, out_degree_log_probs, '-', color='blue')\n",
    "plt.plot(degree_means, degree_log_probs, '-', color='green')\n",
    "\n",
    "plt.grid()\n",
    "plt.title(\"Degree distributions\")\n",
    "plt.xlabel(\"Degree, $k$\")\n",
    "plt.ylabel(\"Probability density, $p(k)$\")                                     \n",
    "plt.loglog()\n",
    "plt.legend()\n",
    "plt.tight_layout()\n",
    "plt.savefig(\"imgs/degree_distributions.pdf\")                                     "
   ]
  },
  {
   "cell_type": "code",
   "execution_count": 75,
   "metadata": {
    "autoscroll": false,
    "collapsed": false,
    "ein.tags": "worksheet-0",
    "slideshow": {
     "slide_type": "-"
    }
   },
   "outputs": [
    {
     "data": {
      "image/png": "[encoded data removed]",
      "text/plain": [
       "<matplotlib.figure.Figure at 0x7f1c704719d0>"
      ]
     },
     "metadata": {},
     "output_type": "display_data"
    }
   ],
   "source": [
    "fig, ax = plt.subplots(figsize=FIGSIZE_TWOCOL)\n",
    "MARKERSIZE= 7\n",
    "\n",
    "# random networks\n",
    "plt.plot(er_degree, er_degree_probs, '.', color='deeppink',   label=u'Erdős–Rényi', markersize = MARKERSIZE)\n",
    "plt.plot(ba_degree, ba_degree_probs, '.', color='orange',   label=u'Barabási-Albert', markersize = MARKERSIZE)\n",
    "# real network\n",
    "plt.plot(degree_in, in_degree_probs, '.', color='tomato',   label='In Degree', markersize = MARKERSIZE)\n",
    "plt.plot(degree_out, out_degree_probs, '.', color='blue',   label='Out Degree', markersize = MARKERSIZE)\n",
    "plt.plot(degree, degree_probs, '.', color='green',   label='Degree', markersize = MARKERSIZE)\n",
    "\n",
    "plt.grid()\n",
    "plt.title(\"Degree distributions, without log binning\")\n",
    "plt.xlabel(\"Degree, $k$\")\n",
    "plt.ylabel(\"Probability density, $p(k)$\")                                     \n",
    "plt.loglog()\n",
    "plt.legend()\n",
    "plt.tight_layout()\n",
    "plt.savefig(\"imgs/degree_distributions_nobinlog.pdf\")                                     "
   ]
  },
  {
   "cell_type": "code",
   "execution_count": 54,
   "metadata": {
    "autoscroll": false,
    "collapsed": false,
    "ein.tags": "worksheet-0",
    "slideshow": {
     "slide_type": "-"
    }
   },
   "outputs": [],
   "source": [
    "# regression testing\n",
    "begin = 30\n",
    "end = 200\n",
    "counts_Y = np.log(in_degree_probs[begin:end])\n",
    "degree_X = np.log(degree_in[begin:end]).astype(float)\n",
    "degree_X=degree_X.reshape(end-begin,1)\n",
    "regr = linear_model.LinearRegression()\n",
    "regr.fit(degree_X, counts_Y)\n",
    "count_pred = regr.predict(degree_X)+0.5"
   ]
  },
  {
   "cell_type": "code",
   "execution_count": 55,
   "metadata": {
    "autoscroll": false,
    "collapsed": false,
    "ein.tags": "worksheet-0",
    "slideshow": {
     "slide_type": "-"
    }
   },
   "outputs": [
    {
     "name": "stdout",
     "output_type": "stream",
     "text": [
      "-1.64533850716\n",
      "0.285776511621\n",
      "0.95378108165\n"
     ]
    }
   ],
   "source": [
    "print regr.coef_[0]\n",
    "print regr.intercept_\n",
    "print regr.score(degree_X, counts_Y)"
   ]
  },
  {
   "cell_type": "code",
   "execution_count": 56,
   "metadata": {
    "autoscroll": false,
    "collapsed": false,
    "ein.tags": "worksheet-0",
    "slideshow": {
     "slide_type": "-"
    }
   },
   "outputs": [],
   "source": [
    "def regression(degree, degree_probs, begin, end, h_adjust=-0, color= \"black\"):\n",
    "    \"\"\"regression analysis between begin and end, \n",
    "    plotting of the line and returns the slope\"\"\"\n",
    "    counts_Y = np.log(degree_probs[begin:end])\n",
    "    degree_X = np.log(degree[begin:end]).astype(float)\n",
    "    degree_X=degree_X.reshape(end-begin,1)\n",
    "    regr = linear_model.LinearRegression()\n",
    "    regr.fit(degree_X, counts_Y)\n",
    "    count_pred = regr.predict(degree_X)+h_adjust\n",
    "    plt.plot( np.exp(degree_X), np.exp(count_pred), color= color)\n",
    "    return -regr.coef_[0]"
   ]
  },
  {
   "cell_type": "markdown",
   "metadata": {
    "ein.tags": "worksheet-0",
    "slideshow": {
     "slide_type": "-"
    }
   },
   "source": [
    "## In-degree distribution"
   ]
  },
  {
   "cell_type": "code",
   "execution_count": 77,
   "metadata": {
    "autoscroll": false,
    "collapsed": false,
    "ein.tags": "worksheet-0",
    "slideshow": {
     "slide_type": "-"
    }
   },
   "outputs": [
    {
     "data": {
      "image/png": "[encoded data removed]",
      "text/plain": [
       "<matplotlib.figure.Figure at 0x7f1c70322dd0>"
      ]
     },
     "metadata": {},
     "output_type": "display_data"
    }
   ],
   "source": [
    "fig, ax = plt.subplots(figsize = FIGSIZE_ONECOL)\n",
    "plt.plot(in_degree_means, in_degree_log_probs, 'o', color='tomato',   label='In-degree', markersize = 5)\n",
    "##plt.plot(degree_out, out_degree_probs, '.', color='green',   label='Original')\n",
    "\n",
    "# barabasi\n",
    "plt.plot(ba_degree_means, ba_degree_log_probs, 'o', color='orange',   label='BA degree', markersize = 5)\n",
    "gamma_ba = regression(ba_degree_means, ba_degree_log_probs, 6, 12, color='orange').round(1)\n",
    "plt.text(1000,float(1)/100, \"$\\gamma_{BA}\\sim $\"+\" {}\".format(gamma_ba), color = 'orange')\n",
    "\n",
    "\n",
    "split = 7\n",
    "gamma_in_1 = regression(in_degree_means, in_degree_log_probs, 1,split).round(1)\n",
    "gamma_in_2 = regression(in_degree_means, in_degree_log_probs, split, 14).round(1)\n",
    "\n",
    "plt.text(3, (float(1)/500), \"$\\gamma \\sim $ {}\".format(gamma_in_1))\n",
    "plt.text(100,float(1)/1000000, \"$\\gamma_{in} \\sim $\"+\"{}\".format(gamma_in_2))\n",
    "# plt.text(1,float(1)/10**7, \"$p(k) \\sim k^{-\\gamma}  $ \",fontsize =15)\n",
    "# info on the splitting\n",
    "\n",
    "in_degree_split = in_degree_means[split].round(0)\n",
    "plt.axvline(in_degree_split, 0,1000, linestyle='--')\n",
    "plt.text(1.5*in_degree_split, float(1)/10**8, \"$k_{split} \\eqsim$\"+\"{:.0f}\".format(in_degree_split), fontsize=SMALL_SIZE)\n",
    "\n",
    "plt.title(\"In-degree distribution\")\n",
    "plt.xlabel(\"In-degree, $k_{in}$\")\n",
    "plt.ylabel(\"Probability density, $p(k)$\")                               \n",
    "plt.loglog()\n",
    "plt.grid()\n",
    "plt.legend(loc =3)\n",
    "plt.tight_layout()\n",
    "plt.savefig(\"imgs/in_degree_distribution.pdf\")                                     "
   ]
  },
  {
   "cell_type": "markdown",
   "metadata": {
    "ein.tags": "worksheet-0",
    "slideshow": {
     "slide_type": "-"
    }
   },
   "source": [
    "## Out-degree distribution"
   ]
  },
  {
   "cell_type": "code",
   "execution_count": 76,
   "metadata": {
    "autoscroll": false,
    "collapsed": false,
    "ein.tags": "worksheet-0",
    "slideshow": {
     "slide_type": "-"
    }
   },
   "outputs": [
    {
     "data": {
      "image/png": "[encoded data removed]",
      "text/plain": [
       "<matplotlib.figure.Figure at 0x7f1c703f4790>"
      ]
     },
     "metadata": {},
     "output_type": "display_data"
    }
   ],
   "source": [
    "fig, ax = plt.subplots(figsize = FIGSIZE_ONECOL)\n",
    "plt.plot(out_degree_means, out_degree_log_probs, 'o', color='blue',   label='Out-degree', markersize = 5)\n",
    "\n",
    "# barabasi\n",
    "plt.plot(ba_degree_means, ba_degree_log_probs, 'o', color='orange',   label='BA degree', markersize = 5)\n",
    "gamma_ba = regression(ba_degree_means, ba_degree_log_probs, 6, 12, color='orange').round(1)\n",
    "plt.text(300,float(1)/10, \"$\\gamma_{BA}\\sim $\"+\" {}\".format(gamma_ba), color = 'orange')\n",
    "\n",
    "split = 7\n",
    "gamma_out_1 = regression(out_degree_means, out_degree_log_probs, 1,split).round(1)\n",
    "gamma_out_2 = regression(out_degree_means, out_degree_log_probs, split, 12).round(1)\n",
    "\n",
    "plt.text(2, (float(1)/100), \"$\\gamma \\sim $ {}\".format(gamma_out_1))\n",
    "plt.text(50,float(1)/100000, \"$\\gamma_{out} \\sim $\"+ \"{}\".format(gamma_out_2))\n",
    "#plt.text(1,float(1)/10**6, \"$p(k) \\sim k^{-\\gamma}  $ \",fontsize =15)\n",
    "# info on the splitting\n",
    "\n",
    "out_degree_split = out_degree_means[split].round(0)\n",
    "plt.axvline(out_degree_split, 0,1000, linestyle='--')\n",
    "plt.text(1.5*out_degree_split, float(1)/10**7, \"$k_{split} \\eqsim$\"+\"{:.0f}\".format(out_degree_split), fontsize=SMALL_SIZE)\n",
    "\n",
    "plt.title(\"Out-degree distribution\")\n",
    "plt.xlabel(\"Out-degree, $k_{out}$\")\n",
    "plt.ylabel(\"Probability density, $p(k)$\")                               \n",
    "plt.loglog()\n",
    "plt.grid()\n",
    "plt.legend()\n",
    "plt.tight_layout()\n",
    "plt.savefig(\"imgs/out_degree_distribution.pdf\")                                     "
   ]
  },
  {
   "cell_type": "markdown",
   "metadata": {
    "ein.tags": "worksheet-0",
    "slideshow": {
     "slide_type": "-"
    }
   },
   "source": [
    "# Tot degree "
   ]
  },
  {
   "cell_type": "code",
   "execution_count": 60,
   "metadata": {
    "autoscroll": false,
    "collapsed": false,
    "ein.tags": "worksheet-0",
    "slideshow": {
     "slide_type": "-"
    }
   },
   "outputs": [
    {
     "data": {
      "image/png": "[encoded data removed]",
      "text/plain": [
       "<matplotlib.figure.Figure at 0x7f1c70e9b090>"
      ]
     },
     "metadata": {},
     "output_type": "display_data"
    }
   ],
   "source": [
    "fig, ax = plt.subplots(figsize = FIGSIZE_ONECOL)\n",
    "plt.plot(degree_means, degree_log_probs, 'o', color='green',   label='Degree', markersize = 5)\n",
    "\n",
    "# barabasi\n",
    "plt.plot(ba_degree_means, ba_degree_log_probs, 'o', color='orange',   label='BA degree', markersize = 5)\n",
    "gamma_ba = regression(ba_degree_means, ba_degree_log_probs, 6, 12, color='orange').round(1)\n",
    "plt.text(1000,float(1)/100, \"$\\gamma_{BA}\\sim $\"+\" {}\".format(gamma_ba), color = 'orange')\n",
    "\n",
    "split = 8\n",
    "gamma_1 = regression(degree_means, degree_log_probs, 1,split).round(1)\n",
    "gamma_2 = regression(degree_means, degree_log_probs, split, 14).round(1)\n",
    "\n",
    "plt.text(2, (float(1)/100), \"$\\gamma \\sim $ {}\".format(gamma_1))\n",
    "plt.text(100,float(1)/1000000, \"$\\gamma \\sim $\"+ \"{}\".format(gamma_2))\n",
    "plt.text(1,float(1)/10**6, \"$p(k) \\sim k^{-\\gamma}  $ \",fontsize =15)\n",
    "# info on the splitting\n",
    "\n",
    "degree_split = degree_means[split].round(0)\n",
    "plt.axvline(degree_split, 0,1000, linestyle='--')\n",
    "plt.text(1.5*degree_split, float(1)/10**8, \"$k_{split} \\eqsim$\"+\"{:.0f}\".format(degree_split), fontsize=SMALL_SIZE)\n",
    "\n",
    "plt.title(\"Degree distribution\")\n",
    "plt.xlabel(\"Degree, $k$\")\n",
    "plt.ylabel(\"Probability density, $p(k)$\")                               \n",
    "plt.loglog()\n",
    "plt.grid()\n",
    "plt.legend()\n",
    "plt.tight_layout()\n",
    "plt.savefig(\"imgs/tot_degree_distribution.pdf\")                                     "
   ]
  },
  {
   "cell_type": "code",
   "execution_count": 201,
   "metadata": {
    "autoscroll": false,
    "collapsed": false,
    "ein.tags": "worksheet-0",
    "slideshow": {
     "slide_type": "-"
    }
   },
   "outputs": [],
   "source": [
    "g_info['gamma_in'] = round(gamma_in_2,1)\n",
    "g_info['gamma_out'] = round(gamma_out_2,1)\n",
    "g_info['gamma'] = round(gamma_2,1)\n",
    "g_ba_info['gamma'] = round(gamma_ba,1)"
   ]
  },
  {
   "cell_type": "markdown",
   "metadata": {
    "ein.tags": "worksheet-0",
    "slideshow": {
     "slide_type": "-"
    }
   },
   "source": [
    "# Connected components"
   ]
  },
  {
   "cell_type": "code",
   "execution_count": 9,
   "metadata": {
    "autoscroll": false,
    "collapsed": false,
    "ein.tags": "worksheet-0",
    "slideshow": {
     "slide_type": "-"
    }
   },
   "outputs": [
    {
     "name": "stdout",
     "output_type": "stream",
     "text": [
      "False\n",
      "False\n"
     ]
    },
    {
     "name": "stdout",
     "output_type": "stream",
     "text": [
      "True\n",
      "True\n",
      "True"
     ]
    },
    {
     "name": "stdout",
     "output_type": "stream",
     "text": [
      "\n"
     ]
    }
   ],
   "source": [
    "print nx.is_strongly_connected(g)\n",
    "print nx.is_weakly_connected(g)\n",
    "print nx.is_strongly_connected(g_er)\n",
    "print nx.is_weakly_connected(g_er)\n",
    "print nx.is_connected(g_ba)"
   ]
  },
  {
   "cell_type": "code",
   "execution_count": 85,
   "metadata": {
    "autoscroll": false,
    "collapsed": false,
    "ein.tags": "worksheet-0",
    "slideshow": {
     "slide_type": "-"
    }
   },
   "outputs": [
    {
     "name": "stdout",
     "output_type": "stream",
     "text": [
      "15757\n"
     ]
    },
    {
     "name": "stdout",
     "output_type": "stream",
     "text": [
      "62\n"
     ]
    }
   ],
   "source": [
    "print nx.number_strongly_connected_components(g)\n",
    "print nx.number_weakly_connected_components(g)"
   ]
  },
  {
   "cell_type": "code",
   "execution_count": 86,
   "metadata": {
    "autoscroll": false,
    "collapsed": false,
    "ein.tags": "worksheet-0",
    "slideshow": {
     "slide_type": "-"
    }
   },
   "outputs": [],
   "source": [
    "g_weak = collections.Counter(len(c)\n",
    "                                 for c in nx.weakly_connected_components(g))\n",
    "g_strong = collections.Counter(\n",
    "        len(c)for c in nx.strongly_connected_components(g)\n",
    "    )\n",
    "er_weak = collections.Counter(len(c) for c in nx.\n",
    "                                  weakly_connected_components(g_er))\n",
    "er_strong = collections.Counter(len(c) for c in nx.\n",
    "                                    strongly_connected_components(g_er))"
   ]
  },
  {
   "cell_type": "code",
   "execution_count": 87,
   "metadata": {
    "autoscroll": false,
    "collapsed": false,
    "ein.tags": "worksheet-0",
    "slideshow": {
     "slide_type": "-"
    }
   },
   "outputs": [
    {
     "data": {
      "text/plain": [
       "Counter({65729: 1})"
      ]
     },
     "execution_count": 87,
     "metadata": {},
     "output_type": "execute_result"
    }
   ],
   "source": [
    "er_weak"
   ]
  },
  {
   "cell_type": "code",
   "execution_count": 88,
   "metadata": {
    "autoscroll": false,
    "collapsed": false,
    "ein.tags": "worksheet-0",
    "slideshow": {
     "slide_type": "-"
    }
   },
   "outputs": [],
   "source": [
    "x_weak = list(np.union1d(g_weak.keys(), er_weak.keys()))\n",
    "x_strong = list(np.union1d(g_strong.keys(), er_strong.keys()))\n",
    "y_weak = [g_weak[k] if k in g_weak else 0 for k in x_weak]\n",
    "y_strong = [g_strong[k] if k in g_strong else 0 for k in x_strong]\n",
    "y_weak_er = [er_weak[k] if k in er_weak else 0 for k in x_weak]\n",
    "\n",
    "import copy\n",
    "y_weak_lab = copy.copy(y_weak)\n",
    "y_weak_lab[-1] =1\n",
    "\n",
    "y_strong_lab = copy.copy(y_strong)\n",
    "y_strong_lab[-1] =1\n"
   ]
  },
  {
   "cell_type": "code",
   "execution_count": 94,
   "metadata": {
    "autoscroll": false,
    "collapsed": false,
    "ein.tags": "worksheet-0",
    "slideshow": {
     "slide_type": "-"
    }
   },
   "outputs": [
    {
     "data": {
      "image/png": "[encoded data removed]",
      "text/plain": [
       "<matplotlib.figure.Figure at 0x7f1c705eca90>"
      ]
     },
     "metadata": {},
     "output_type": "display_data"
    }
   ],
   "source": [
    "#plt.subplots(figsize = (10,10))\n",
    "plt.subplots(figsize = FIGSIZE_TWOCOL)\n",
    "\n",
    "plt.subplot(121)\n",
    "plt.bar(range(len(x_weak)),y_weak,\n",
    "            color='tomato', label='Original', alpha=.8)\n",
    "\n",
    "for i in range(len(x_weak)):\n",
    "    plt.text( i, y_weak_lab[i]+1, y_weak_lab[i] ,fontsize=SMALL_SIZE)\n",
    "\n",
    "plt.bar(range(len(x_weak)), y_weak_er,\n",
    "         color='steelblue', label=u'Erdős–Rényi', alpha=.8)\n",
    "plt.xticks(range(len(x_weak)), x_weak, rotation = 30)\n",
    "plt.title('Weakly connected components')\n",
    "plt.xlabel('Size')\n",
    "plt.ylabel(' Number of components')\n",
    "plt.legend()\n",
    "plt.ylim(ymax=70)\n",
    "\n",
    "plt.subplot(122)\n",
    "plt.bar(range(len(x_strong)),\n",
    "        [g_strong[k] if k in g_strong else 0 for k in x_strong],\n",
    "        color='tomato', label='Original', log=True, alpha=.8)\n",
    "plt.bar(range(len(x_strong)),\n",
    "        [er_strong[k] if k in er_strong else 0 for k in x_strong],\n",
    "        color='steelblue', label=u'Erdős–Rényi', log=True, alpha=.8)\n",
    "for i in range(len(x_strong)):\n",
    "    plt.text( i, y_strong_lab[i], y_strong_lab[i] , fontsize=SMALL_SIZE)\n",
    "\n",
    "plt.xticks(range(len(x_strong)), x_strong, rotation =30)\n",
    "plt.title('Strongly connected components')\n",
    "plt.xlabel('Size')\n",
    "plt.ylabel('Number of components')\n",
    "plt.legend()\n",
    "plt.ylim(ymax = 10**5)\n",
    "\n",
    "plt.subplots_adjust(left=0.125, right=0.9, bottom=0.1, top=1.4, wspace=0.2,\n",
    "                    hspace=0.2)\n",
    "\n",
    "plt.tight_layout()\n",
    "plt.savefig('./imgs/connectivity.pdf', format='pdf')\n"
   ]
  },
  {
   "cell_type": "markdown",
   "metadata": {
    "ein.tags": "worksheet-0",
    "slideshow": {
     "slide_type": "-"
    }
   },
   "source": [
    "# Path analysis"
   ]
  },
  {
   "cell_type": "code",
   "execution_count": 95,
   "metadata": {
    "autoscroll": false,
    "collapsed": false,
    "ein.tags": "worksheet-0",
    "slideshow": {
     "slide_type": "-"
    }
   },
   "outputs": [],
   "source": [
    "import datetime \n",
    "import time"
   ]
  },
  {
   "cell_type": "code",
   "execution_count": 96,
   "metadata": {
    "autoscroll": false,
    "collapsed": false,
    "ein.tags": "worksheet-0",
    "slideshow": {
     "slide_type": "-"
    }
   },
   "outputs": [],
   "source": [
    "g_und = g.to_undirected()"
   ]
  },
  {
   "cell_type": "code",
   "execution_count": 97,
   "metadata": {
    "autoscroll": false,
    "collapsed": false,
    "ein.tags": "worksheet-0",
    "slideshow": {
     "slide_type": "-"
    }
   },
   "outputs": [],
   "source": [
    "g_c = [g_und.subgraph(c) for c in nx.connected_components(g_und)]"
   ]
  },
  {
   "cell_type": "code",
   "execution_count": 98,
   "metadata": {
    "autoscroll": false,
    "collapsed": false,
    "ein.tags": "worksheet-0",
    "slideshow": {
     "slide_type": "-"
    }
   },
   "outputs": [
    {
     "name": "stdout",
     "output_type": "stream",
     "text": [
      "65594\n"
     ]
    },
    {
     "ename": "NameError",
     "evalue": "name 'distances' is not defined",
     "output_type": "error",
     "traceback": [
      "\u001b[0;31m\u001b[0m",
      "\u001b[0;31mNameError\u001b[0mTraceback (most recent call last)",
      "\u001b[0;32m<ipython-input-98-a29d624df9cf>\u001b[0m in \u001b[0;36m<module>\u001b[0;34m()\u001b[0m\n\u001b[1;32m      1\u001b[0m \u001b[0mlargest_cc\u001b[0m \u001b[0;34m=\u001b[0m \u001b[0mg_c\u001b[0m\u001b[0;34m[\u001b[0m\u001b[0;36m0\u001b[0m\u001b[0;34m]\u001b[0m\u001b[0;34m\u001b[0m\u001b[0m\n\u001b[1;32m      2\u001b[0m \u001b[0;32mprint\u001b[0m \u001b[0mlen\u001b[0m\u001b[0;34m(\u001b[0m\u001b[0mlargest_cc\u001b[0m\u001b[0;34m)\u001b[0m\u001b[0;34m\u001b[0m\u001b[0m\n\u001b[0;32m----> 3\u001b[0;31m \u001b[0mn_max\u001b[0m \u001b[0;34m=\u001b[0m \u001b[0mlen\u001b[0m\u001b[0;34m(\u001b[0m\u001b[0mdistances\u001b[0m\u001b[0;34m)\u001b[0m\u001b[0;34m**\u001b[0m\u001b[0mlen\u001b[0m\u001b[0;34m(\u001b[0m\u001b[0mdistances\u001b[0m\u001b[0;34m)\u001b[0m\u001b[0;34m/\u001b[0m\u001b[0;36m2\u001b[0m\u001b[0;34m\u001b[0m\u001b[0m\n\u001b[0m",
      "\u001b[0;31mNameError\u001b[0m: name 'distances' is not defined"
     ]
    }
   ],
   "source": [
    "largest_cc = g_c[0]\n",
    "print len(largest_cc)\n"
   ]
  },
  {
   "cell_type": "code",
   "execution_count": 99,
   "metadata": {
    "autoscroll": false,
    "collapsed": false,
    "ein.tags": "worksheet-0",
    "slideshow": {
     "slide_type": "-"
    }
   },
   "outputs": [],
   "source": [
    "import random\n",
    "def sample_distances(g, n = 1000):\n",
    "    \"\"\"\n",
    "    computes the shortest path lengths of a sample of n nodes of a graph g\n",
    "    returns: list of distances computed\n",
    "    \"\"\"\n",
    "    temp = g.nodes()\n",
    "    nodes = [nd for nd in temp]\n",
    "    distances = []\n",
    "    for i in range(n):\n",
    "        i1 = random.randint(0,len(nodes)-1)\n",
    "        i2 = random.randint(0,len(nodes)-1)\n",
    "        try:\n",
    "            distances.append( nx.shortest_path_length(g, nodes[i1], nodes[i2]))\n",
    "        except nx.NetworkXNoPath:\n",
    "            continue\n",
    "    print np.mean(distances)\n",
    "    return distances"
   ]
  },
  {
   "cell_type": "markdown",
   "metadata": {
    "ein.tags": "worksheet-0",
    "slideshow": {
     "slide_type": "-"
    }
   },
   "source": [
    "## estimating computation time"
   ]
  },
  {
   "cell_type": "code",
   "execution_count": 45,
   "metadata": {
    "autoscroll": false,
    "collapsed": false,
    "ein.tags": "worksheet-0",
    "slideshow": {
     "slide_type": "-"
    }
   },
   "outputs": [],
   "source": [
    "n_pairs = [1000, 10000, 20000, 50000, 80000, 100000]"
   ]
  },
  {
   "cell_type": "code",
   "execution_count": 46,
   "metadata": {
    "autoscroll": false,
    "collapsed": false,
    "ein.tags": "worksheet-0",
    "slideshow": {
     "slide_type": "-"
    }
   },
   "outputs": [],
   "source": [
    "times= []\n",
    "for L in n_pairs:\n",
    "    start = datetime.datetime.now()\n",
    "    distances = sample_distances(largest_cc,L)\n",
    "    end = datetime.datetime.now()\n",
    "    times.append( (end-start).seconds )"
   ]
  },
  {
   "cell_type": "code",
   "execution_count": 47,
   "metadata": {
    "autoscroll": false,
    "collapsed": false,
    "ein.tags": "worksheet-0",
    "slideshow": {
     "slide_type": "-"
    }
   },
   "outputs": [
    {
     "name": "stdout",
     "output_type": "stream",
     "text": [
      "[1, 11, 20, 51, 78, 100]\n"
     ]
    }
   ],
   "source": [
    "print times"
   ]
  },
  {
   "cell_type": "code",
   "execution_count": 67,
   "metadata": {
    "autoscroll": false,
    "collapsed": false,
    "ein.tags": "worksheet-0",
    "slideshow": {
     "slide_type": "-"
    }
   },
   "outputs": [],
   "source": [
    "# time regression \n",
    "n_max = len(distances)**len(distances)/2\n",
    "Y = np.array(times)\n",
    "X = np.array(n_pairs)\n",
    "X=X.reshape(len(X),1)\n",
    "regr = linear_model.LinearRegression()\n",
    "regr.fit(X, Y)\n",
    "X_pred = np.linspace(1000, n_max, num = 100000)\n",
    "X_pred = X_pred.reshape(len(X_pred), 1)\n",
    "times_pred = regr.predict(X_pred)\n",
    "#regr.coef_[0]"
   ]
  },
  {
   "cell_type": "code",
   "execution_count": 133,
   "metadata": {
    "autoscroll": false,
    "collapsed": false,
    "ein.tags": "worksheet-0",
    "slideshow": {
     "slide_type": "-"
    }
   },
   "outputs": [
    {
     "data": {
      "image/png": "[encoded data removed]",
      "text/plain": [
       "<matplotlib.figure.Figure at 0x7f41f7be7310>"
      ]
     },
     "metadata": {},
     "output_type": "display_data"
    }
   ],
   "source": [
    "# computation time plot\n",
    "plt.subplots(figsize=FIGSIZE_ONECOL)\n",
    "plt.plot(n_pairs, times, 'o', label=\"Computed\")\n",
    "plt.plot(X_pred, times_pred, label=\"Predicted\")\n",
    "plt.axvline(n_max,0,100,linestyle='--')\n",
    "plt.axhline(max(times_pred),0,100,linestyle='--')\n",
    "plt.text(10**5, 8*10**5, \"time expected =\"+ \"{:.0f} hours\".format(max(times_pred)/3600))\n",
    "plt.text(10**4, 1, \"num of all node pairs: {:.2f} G\".format( float(n_max)/(10**9)))\n",
    "plt.xlim(10**2,10**10)\n",
    "plt.loglog()\n",
    "plt.legend()\n",
    "\n",
    "plt.title(\"Shortest paths computation time\")\n",
    "plt.xlabel(\"Number of node pairs\")\n",
    "plt.ylabel(\"Computation time (seconds)\")\n",
    "plt.tight_layout()\n",
    "#plt.yscale('log')\n",
    "plt.savefig('./imgs/paths_computation_time.pdf', format='pdf')"
   ]
  },
  {
   "cell_type": "code",
   "execution_count": 183,
   "metadata": {
    "autoscroll": false,
    "collapsed": false,
    "ein.tags": "worksheet-0",
    "slideshow": {
     "slide_type": "-"
    }
   },
   "outputs": [
    {
     "name": "stdout",
     "output_type": "stream",
     "text": [
      "2.92407\n",
      "0.674125088615\n",
      "0.00213177070789\n",
      "7\n"
     ]
    }
   ],
   "source": [
    "# computing statistics\n",
    "d_mean = np.mean(distances)\n",
    "print d_mean\n",
    "s=np.std(distances)\n",
    "d_std= np.std(distances)/np.sqrt(len(distances))\n",
    "print s\n",
    "print d_std\n",
    "print max(distances)"
   ]
  },
  {
   "cell_type": "markdown",
   "metadata": {
    "ein.tags": "worksheet-0",
    "slideshow": {
     "slide_type": "-"
    }
   },
   "source": [
    "## average path length distribution"
   ]
  },
  {
   "cell_type": "code",
   "execution_count": 214,
   "metadata": {
    "autoscroll": false,
    "collapsed": false,
    "ein.tags": "worksheet-0",
    "slideshow": {
     "slide_type": "-"
    }
   },
   "outputs": [
    {
     "data": {
      "image/png": "[encoded data removed]",
      "text/plain": [
       "<matplotlib.figure.Figure at 0x7f4220126a50>"
      ]
     },
     "metadata": {},
     "output_type": "display_data"
    }
   ],
   "source": [
    "# average path length distribution\n",
    "plt.subplots(figsize = FIGSIZE_ONECOL)\n",
    "prova=plt.hist(distances,bins = np.arange(0,8))\n",
    "plt.title(\"Shortest path lengths distribution\")\n",
    "plt.xlabel(\"Shortest path lengths, d\")\n",
    "plt.ylabel(\"Counts\")\n",
    "plt.tight_layout()\n",
    "plt.xticks(np.arange(max(distances)+2))\n",
    "plt.axvline(np.mean(distances), color=\"red\")\n",
    "plt.text(5,55000, \"n = {:.0f}\".format(len(distances)))\n",
    "plt.text(5,50000, \"<d> = {:.3f}\".format(d_mean))\n",
    "plt.text(5,45000, \"$\\sigma$\"+\"(<d>) = {:.3f}\".format(d_std))\n",
    "plt.text(5,40000, \"s = {:.3f}\".format(s))\n",
    "plt.savefig('./imgs/paths_hist.pdf', format='pdf')\n"
   ]
  },
  {
   "cell_type": "code",
   "execution_count": 125,
   "metadata": {
    "autoscroll": false,
    "collapsed": false,
    "ein.tags": "worksheet-0",
    "slideshow": {
     "slide_type": "-"
    }
   },
   "outputs": [
    {
     "name": "stdout",
     "output_type": "stream",
     "text": [
      "3.65223097113\n"
     ]
    }
   ],
   "source": [
    "distances_g = sample_distances(g,1000)"
   ]
  },
  {
   "cell_type": "code",
   "execution_count": 234,
   "metadata": {
    "autoscroll": false,
    "collapsed": false,
    "ein.tags": "worksheet-0",
    "slideshow": {
     "slide_type": "-"
    }
   },
   "outputs": [],
   "source": [
    "from scipy.stats import norm"
   ]
  },
  {
   "cell_type": "code",
   "execution_count": 254,
   "metadata": {
    "autoscroll": false,
    "collapsed": false,
    "ein.tags": "worksheet-0",
    "slideshow": {
     "slide_type": "-"
    }
   },
   "outputs": [
    {
     "name": "stdout",
     "output_type": "stream",
     "text": [
      "4.9619119924e-10\n"
     ]
    }
   ],
   "source": [
    "p_max = 1-norm.cdf(np.max(distances), loc=d_mean, scale= s)\n",
    "print p_max\n",
    "#norm.ppf(0.5, loc=d_mean, scale = d_std)"
   ]
  },
  {
   "cell_type": "code",
   "execution_count": 259,
   "metadata": {
    "autoscroll": false,
    "collapsed": false,
    "ein.tags": "worksheet-0",
    "slideshow": {
     "slide_type": "-"
    }
   },
   "outputs": [
    {
     "data": {
      "text/plain": [
       "7.0069480861804552"
      ]
     },
     "execution_count": 259,
     "metadata": {},
     "output_type": "execute_result"
    }
   ],
   "source": [
    "norm.ppf(1-1.0/n_max, loc=d_mean, scale = s)"
   ]
  },
  {
   "cell_type": "code",
   "execution_count": null,
   "metadata": {
    "autoscroll": false,
    "collapsed": false,
    "ein.tags": "worksheet-0",
    "slideshow": {
     "slide_type": "-"
    }
   },
   "outputs": [],
   "source": [
    "## Preserving degree random graph"
   ]
  },
  {
   "cell_type": "code",
   "execution_count": 136,
   "metadata": {
    "autoscroll": false,
    "collapsed": false,
    "ein.tags": "worksheet-0",
    "slideshow": {
     "slide_type": "-"
    }
   },
   "outputs": [],
   "source": [
    "temp = largest_cc.degree()\n",
    "seq_degrees = [d for n,d in temp]\n",
    "# random_g = nx.expected_degree_graph(seq_degrees, selfloops=False)\n",
    "# nx.write_edgelist(random_g, '../network/networks/random_fixed_degree_edge_list.txt')"
   ]
  },
  {
   "cell_type": "code",
   "execution_count": 138,
   "metadata": {
    "autoscroll": false,
    "collapsed": false,
    "ein.tags": "worksheet-0",
    "slideshow": {
     "slide_type": "-"
    }
   },
   "outputs": [],
   "source": [
    "g_random = nx.read_edgelist('../network/networks/random_fixed_degree_edge_list.txt',\n",
    "                     create_using=nx.Graph(), nodetype=int, data=False)"
   ]
  },
  {
   "cell_type": "code",
   "execution_count": 321,
   "metadata": {
    "autoscroll": false,
    "collapsed": false,
    "ein.tags": "worksheet-0",
    "slideshow": {
     "slide_type": "-"
    }
   },
   "outputs": [],
   "source": [
    "info_random_g = network_summary(g_random, directed =False)\n",
    "info_g_cc = network_summary(largest_cc, directed =False)"
   ]
  },
  {
   "cell_type": "code",
   "execution_count": 158,
   "metadata": {
    "autoscroll": false,
    "collapsed": false,
    "ein.tags": "worksheet-0",
    "slideshow": {
     "slide_type": "-"
    }
   },
   "outputs": [
    {
     "name": "stdout",
     "output_type": "stream",
     "text": [
      "2.86561984298\n"
     ]
    }
   ],
   "source": [
    "distances_r = sample_distances(g_random, 100000)"
   ]
  },
  {
   "cell_type": "code",
   "execution_count": 184,
   "metadata": {
    "autoscroll": false,
    "collapsed": false,
    "ein.tags": "worksheet-0",
    "slideshow": {
     "slide_type": "-"
    }
   },
   "outputs": [
    {
     "data": {
      "image/png": "[encoded data removed]",
      "text/plain": [
       "<matplotlib.figure.Figure at 0x7f41d5491250>"
      ]
     },
     "metadata": {},
     "output_type": "display_data"
    }
   ],
   "source": [
    "X = np.arange(10)\n",
    "d_mean_random = np.mean(distances_r)\n",
    "out = plt.hist(distances, bins= X,density =True)\n",
    "out_r = plt.hist(distances_r, bins= X, density =True)"
   ]
  },
  {
   "cell_type": "code",
   "execution_count": 6,
   "metadata": {
    "autoscroll": false,
    "collapsed": false,
    "ein.tags": "worksheet-0",
    "slideshow": {
     "slide_type": "-"
    }
   },
   "outputs": [
    {
     "ename": "NameError",
     "evalue": "name 'out' is not defined",
     "output_type": "error",
     "traceback": [
      "\u001b[0;31m\u001b[0m",
      "\u001b[0;31mNameError\u001b[0mTraceback (most recent call last)",
      "\u001b[0;32m<ipython-input-6-530c0f7d186b>\u001b[0m in \u001b[0;36m<module>\u001b[0;34m()\u001b[0m\n\u001b[0;32m----> 1\u001b[0;31m \u001b[0mX\u001b[0m\u001b[0;34m=\u001b[0m\u001b[0;34m(\u001b[0m\u001b[0mout\u001b[0m\u001b[0;34m[\u001b[0m\u001b[0;36m1\u001b[0m\u001b[0;34m]\u001b[0m\u001b[0;34m[\u001b[0m\u001b[0;34m:\u001b[0m\u001b[0;34m-\u001b[0m\u001b[0;36m1\u001b[0m\u001b[0;34m]\u001b[0m\u001b[0;34m)\u001b[0m\u001b[0;34m\u001b[0m\u001b[0m\n\u001b[0m\u001b[1;32m      2\u001b[0m \u001b[0;32mprint\u001b[0m \u001b[0;34m(\u001b[0m\u001b[0mX\u001b[0m\u001b[0;34m)\u001b[0m\u001b[0;34m\u001b[0m\u001b[0m\n\u001b[1;32m      3\u001b[0m \u001b[0mplt\u001b[0m\u001b[0;34m.\u001b[0m\u001b[0msubplots\u001b[0m\u001b[0;34m(\u001b[0m\u001b[0mfigsize\u001b[0m \u001b[0;34m=\u001b[0m \u001b[0mFIGSIZE_TWOCOL\u001b[0m\u001b[0;34m)\u001b[0m\u001b[0;34m\u001b[0m\u001b[0m\n\u001b[1;32m      4\u001b[0m \u001b[0mplt\u001b[0m\u001b[0;34m.\u001b[0m\u001b[0mplot\u001b[0m\u001b[0;34m(\u001b[0m\u001b[0mX\u001b[0m\u001b[0;34m,\u001b[0m \u001b[0mout\u001b[0m\u001b[0;34m[\u001b[0m\u001b[0;36m0\u001b[0m\u001b[0;34m]\u001b[0m\u001b[0;34m,\u001b[0m \u001b[0mlabel\u001b[0m \u001b[0;34m=\u001b[0m \u001b[0;34m\"Original network\"\u001b[0m\u001b[0;34m,\u001b[0m \u001b[0mcolor\u001b[0m \u001b[0;34m=\u001b[0m \u001b[0;34m\"tomato\"\u001b[0m\u001b[0;34m)\u001b[0m\u001b[0;34m\u001b[0m\u001b[0m\n\u001b[1;32m      5\u001b[0m \u001b[0mplt\u001b[0m\u001b[0;34m.\u001b[0m\u001b[0mplot\u001b[0m\u001b[0;34m(\u001b[0m\u001b[0mX\u001b[0m\u001b[0;34m,\u001b[0m \u001b[0mout_r\u001b[0m\u001b[0;34m[\u001b[0m\u001b[0;36m0\u001b[0m\u001b[0;34m]\u001b[0m\u001b[0;34m,\u001b[0m \u001b[0mlabel\u001b[0m \u001b[0;34m=\u001b[0m \u001b[0;34m\"Degree preserving \\nrandom network\"\u001b[0m\u001b[0;34m,\u001b[0m \u001b[0mcolor\u001b[0m \u001b[0;34m=\u001b[0m \u001b[0;34m\"blue\"\u001b[0m\u001b[0;34m)\u001b[0m\u001b[0;34m\u001b[0m\u001b[0m\n",
      "\u001b[0;31mNameError\u001b[0m: name 'out' is not defined"
     ]
    }
   ],
   "source": [
    "X=(out[1][:-1])\n",
    "print (X)\n",
    "plt.subplots(figsize = FIGSIZE_TWOCOL)\n",
    "plt.plot(X, out[0], label = \"Original network\", color = \"tomato\")\n",
    "plt.plot(X, out_r[0], label = \"Degree preserving \\nrandom network\", color = \"blue\")\n",
    "plt.axvline(d_mean, color= \"tomato\")\n",
    "plt.axvline(d_mean_random, color= \"blue\")\n",
    "plt.title(\"Comparison of shortest path lengths distributions\")\n",
    "plt.xlabel(\"Shortest path lengths, d\")\n",
    "plt.ylabel(\"Density\")\n",
    "plt.text(6,0.4, \"    <d> = {:.3f}\".format(d_mean))\n",
    "plt.text(6,0.3, \"$<d_{rand}> = $\"+ \"{:.3f}\".format(d_mean_random))\n",
    "\n",
    "plt.tight_layout()\n",
    "plt.legend()\n",
    "plt.savefig('./imgs/paths_hist_comparison.pdf', format='pdf')"
   ]
  },
  {
   "cell_type": "markdown",
   "metadata": {
    "ein.tags": "worksheet-0",
    "slideshow": {
     "slide_type": "-"
    }
   },
   "source": [
    "# Clustering coefficient"
   ]
  },
  {
   "cell_type": "code",
   "execution_count": 11,
   "metadata": {
    "autoscroll": false,
    "collapsed": false,
    "ein.tags": "worksheet-0",
    "slideshow": {
     "slide_type": "-"
    }
   },
   "outputs": [],
   "source": [
    "import datetime\n",
    "import time\n",
    "import pandas as pd"
   ]
  },
  {
   "cell_type": "code",
   "execution_count": 13,
   "metadata": {
    "autoscroll": false,
    "collapsed": false,
    "ein.tags": "worksheet-0",
    "slideshow": {
     "slide_type": "-"
    }
   },
   "outputs": [],
   "source": [
    "g_und = g.to_undirected()"
   ]
  },
  {
   "cell_type": "code",
   "execution_count": 8,
   "metadata": {
    "autoscroll": false,
    "collapsed": false,
    "ein.tags": "worksheet-0",
    "slideshow": {
     "slide_type": "-"
    }
   },
   "outputs": [],
   "source": [
    "temp = g.nodes()\n",
    "nodes = [nd for nd in temp]"
   ]
  },
  {
   "cell_type": "code",
   "execution_count": 9,
   "metadata": {
    "autoscroll": false,
    "collapsed": false,
    "ein.tags": "worksheet-0",
    "slideshow": {
     "slide_type": "-"
    }
   },
   "outputs": [],
   "source": [
    "import random\n",
    "def sample_cluster(g, n = 1000):\n",
    "    \"\"\"\n",
    "    computes the clustering coefficient of a sample of n nodes of a graph g\n",
    "    returns: list of clustering coefs computed\n",
    "    \"\"\"\n",
    "    temp = g.nodes()\n",
    "    nodes = [nd for nd in temp]\n",
    "    clusters = []\n",
    "    for i in range(n):\n",
    "        i = random.randint(0,len(nodes)-1)\n",
    "        try:\n",
    "            clusters.append( nx.clustering(g, nodes[i]))\n",
    "        except nx.NetworkXNoPath:\n",
    "            continue\n",
    "    print np.mean(clusters)\n",
    "    return clusters"
   ]
  },
  {
   "cell_type": "code",
   "execution_count": 14,
   "metadata": {
    "autoscroll": false,
    "collapsed": false,
    "ein.tags": "worksheet-0",
    "slideshow": {
     "slide_type": "-"
    }
   },
   "outputs": [],
   "source": [
    "start = datetime.datetime.now()\n",
    "clusters = nx.clustering(g_und, nodes)\n",
    "end = datetime.datetime.now()"
   ]
  },
  {
   "cell_type": "code",
   "execution_count": 19,
   "metadata": {
    "autoscroll": false,
    "collapsed": false,
    "ein.tags": "worksheet-0",
    "slideshow": {
     "slide_type": "-"
    }
   },
   "outputs": [],
   "source": [
    "start = datetime.datetime.now()\n",
    "#clusters = sample_cluster(g_und, n =10000)\n",
    "end = datetime.datetime.now()\n"
   ]
  },
  {
   "cell_type": "code",
   "execution_count": 20,
   "metadata": {
    "autoscroll": false,
    "collapsed": false,
    "ein.tags": "worksheet-0",
    "slideshow": {
     "slide_type": "-"
    }
   },
   "outputs": [],
   "source": [
    "degrees = { n:d for n,d in g_und.degree()}"
   ]
  },
  {
   "cell_type": "code",
   "execution_count": 21,
   "metadata": {
    "autoscroll": false,
    "collapsed": false,
    "ein.tags": "worksheet-0",
    "slideshow": {
     "slide_type": "-"
    }
   },
   "outputs": [
    {
     "data": {
      "text/plain": [
       "65729"
      ]
     },
     "execution_count": 21,
     "metadata": {},
     "output_type": "execute_result"
    }
   ],
   "source": [
    "len(degrees)"
   ]
  },
  {
   "cell_type": "code",
   "execution_count": 22,
   "metadata": {
    "autoscroll": false,
    "collapsed": false,
    "ein.tags": "worksheet-0",
    "slideshow": {
     "slide_type": "-"
    }
   },
   "outputs": [],
   "source": [
    "clust = [clusters[nd] for nd in nodes]\n",
    "deg = [degrees[nd] for nd in nodes]\n"
   ]
  },
  {
   "cell_type": "code",
   "execution_count": 23,
   "metadata": {
    "autoscroll": false,
    "collapsed": false,
    "ein.tags": "worksheet-0",
    "slideshow": {
     "slide_type": "-"
    }
   },
   "outputs": [],
   "source": [
    "df_clust = pd.DataFrame({'id':nodes, 'C': clust, 'degree' : deg})"
   ]
  },
  {
   "cell_type": "code",
   "execution_count": 24,
   "metadata": {
    "autoscroll": false,
    "collapsed": false,
    "ein.tags": "worksheet-0",
    "slideshow": {
     "slide_type": "-"
    }
   },
   "outputs": [
    {
     "data": {
      "text/plain": [
       "          C  degree                  id\n",
       "0  0.265353     384  780564694922690560\n",
       "1  0.024803    2100  824797212425191425\n",
       "2  0.253185     199  870705205267922946\n",
       "3  0.357881     149  854450822985416707\n",
       "4  0.406977     172  868153809603657732"
      ]
     },
     "execution_count": 24,
     "metadata": {},
     "output_type": "execute_result"
    }
   ],
   "source": [
    "df_clust.head()"
   ]
  },
  {
   "cell_type": "code",
   "execution_count": 25,
   "metadata": {
    "autoscroll": false,
    "collapsed": false,
    "ein.tags": "worksheet-0",
    "slideshow": {
     "slide_type": "-"
    }
   },
   "outputs": [
    {
     "name": "stdout",
     "output_type": "stream",
     "text": [
      "0\n"
     ]
    }
   ],
   "source": [
    "C_mean = np.mean(clust)\n",
    "C_std = np.std(clust)\n",
    "C_mean_std = np.std(clust)/np.sqrt(len(clust))"
   ]
  },
  {
   "cell_type": "code",
   "execution_count": 42,
   "metadata": {
    "autoscroll": false,
    "collapsed": false,
    "ein.tags": "worksheet-0",
    "slideshow": {
     "slide_type": "-"
    }
   },
   "outputs": [
    {
     "data": {
      "image/png": "[encoded data removed]",
      "text/plain": [
       "<matplotlib.figure.Figure at 0x7fa8a6447f90>"
      ]
     },
     "metadata": {},
     "output_type": "display_data"
    }
   ],
   "source": [
    "# clustering coef distribution\n",
    "plt.subplots(figsize = FIGSIZE_ONECOL)\n",
    "prova=plt.hist(clust)\n",
    "plt.title(\"Clustering coefficient distribution\")\n",
    "plt.xlabel(\"Clustering coefficient, C\")\n",
    "plt.ylabel(\"Number of nodes\")\n",
    "plt.tight_layout()\n",
    "#plt.xticks(np.arange(max(clust)+0.1))\n",
    "plt.axvline(np.mean(clust), color=\"red\")\n",
    "xpos = 0.6\n",
    "plt.text(xpos,12000, \"n = {:.0f}\".format(len(clust)))\n",
    "plt.text(xpos,11000, \"<C> = {:.3f}\".format(C_mean))\n",
    "plt.text(xpos,10000, \"$\\sigma$\"+\"(C) = {:.3f}\".format(C_std))\n",
    "plt.text(xpos,9000, \"$\\sigma$\"+\"(<C>) = {:.3f}\".format(C_mean_std))\n",
    "plt.savefig('./imgs/cluster_coef_hist.pdf', format='pdf')\n"
   ]
  },
  {
   "cell_type": "code",
   "execution_count": 43,
   "metadata": {
    "autoscroll": false,
    "collapsed": false,
    "ein.tags": "worksheet-0",
    "slideshow": {
     "slide_type": "-"
    }
   },
   "outputs": [],
   "source": [
    "g_und_info = network_summary(g_und, directed=False)"
   ]
  },
  {
   "cell_type": "code",
   "execution_count": 31,
   "metadata": {
    "autoscroll": false,
    "collapsed": false,
    "ein.tags": "worksheet-0",
    "slideshow": {
     "slide_type": "-"
    }
   },
   "outputs": [
    {
     "data": {
      "text/plain": [
       "{'L': 1895878,\n",
       " 'N': 65729,\n",
       " 'density': 0.0008776734078346511,\n",
       " 'k_avg_und': 57,\n",
       " 'k_max_und': 19065,\n",
       " 'k_min_und': 1}"
      ]
     },
     "execution_count": 31,
     "metadata": {},
     "output_type": "execute_result"
    }
   ],
   "source": [
    "g_und_info"
   ]
  },
  {
   "cell_type": "code",
   "execution_count": 44,
   "metadata": {
    "autoscroll": false,
    "collapsed": false,
    "ein.tags": "worksheet-0",
    "slideshow": {
     "slide_type": "-"
    }
   },
   "outputs": [
    {
     "name": "stdout",
     "output_type": "stream",
     "text": [
      "0.0008671971276\n"
     ]
    },
    {
     "data": {
      "image/png": "[encoded data removed]",
      "text/plain": [
       "<matplotlib.figure.Figure at 0x7fa879322710>"
      ]
     },
     "metadata": {},
     "output_type": "display_data"
    }
   ],
   "source": [
    "fig,ax = plt.subplots(figsize = FIGSIZE_ONECOL)\n",
    "plt.plot(df_clust['degree'], df_clust['C'], '.')\n",
    "\n",
    "C_mean_rand = float(g_und_info['k_avg_und'])/g_und_info['N']\n",
    "\n",
    "print C_mean_rand\n",
    "plt.axhline(C_mean_rand, color='green')\n",
    "#plt.loglog()\n",
    "plt.title('Clustering coefficient vs degree ')\n",
    "plt.ylabel('Clustering coefficients')\n",
    "plt.xlabel('Degree, k')\n",
    "ax.set_xscale('log')\n",
    "plt.tight_layout()\n",
    "plt.savefig('./imgs/cluster_coef_bydegree.pdf', format='pdf')"
   ]
  },
  {
   "cell_type": "markdown",
   "metadata": {
    "ein.tags": "worksheet-0",
    "slideshow": {
     "slide_type": "-"
    }
   },
   "source": [
    "# Centrality"
   ]
  },
  {
   "cell_type": "code",
   "execution_count": 34,
   "metadata": {
    "autoscroll": false,
    "collapsed": false,
    "ein.tags": "worksheet-0",
    "slideshow": {
     "slide_type": "-"
    }
   },
   "outputs": [],
   "source": [
    "import pandas as pd\n",
    "import datetime \n",
    "import time"
   ]
  },
  {
   "cell_type": "code",
   "execution_count": 181,
   "metadata": {
    "autoscroll": false,
    "collapsed": false,
    "ein.tags": "worksheet-0",
    "slideshow": {
     "slide_type": "-"
    }
   },
   "outputs": [],
   "source": [
    "g_und = g.to_undirected()"
   ]
  },
  {
   "cell_type": "code",
   "execution_count": 189,
   "metadata": {
    "autoscroll": false,
    "collapsed": false,
    "ein.tags": "worksheet-0",
    "slideshow": {
     "slide_type": "-"
    }
   },
   "outputs": [],
   "source": [
    "hubs = { n:d for n,d in g_und.degree() if d>=1000}\n",
    "hubs_ids = hubs.keys()"
   ]
  },
  {
   "cell_type": "code",
   "execution_count": 199,
   "metadata": {
    "autoscroll": false,
    "collapsed": false,
    "ein.tags": "worksheet-0",
    "slideshow": {
     "slide_type": "-"
    }
   },
   "outputs": [],
   "source": [
    "df_hubs= pd.DataFrame({'id':hubs_ids, 'degree': [ hubs[h] for h in hubs_ids] })"
   ]
  },
  {
   "cell_type": "code",
   "execution_count": 197,
   "metadata": {
    "autoscroll": false,
    "collapsed": false,
    "ein.tags": "worksheet-0",
    "slideshow": {
     "slide_type": "-"
    }
   },
   "outputs": [],
   "source": [
    "start = datetime.datetime.now()\n",
    "clusters = nx.clustering(g_und, hubs_ids)\n",
    "end = datetime.datetime.now()"
   ]
  },
  {
   "cell_type": "code",
   "execution_count": 198,
   "metadata": {
    "autoscroll": false,
    "collapsed": false,
    "ein.tags": "worksheet-0",
    "slideshow": {
     "slide_type": "-"
    }
   },
   "outputs": [
    {
     "data": {
      "text/plain": [
       "30"
      ]
     },
     "execution_count": 198,
     "metadata": {},
     "output_type": "execute_result"
    }
   ],
   "source": [
    "(end-start).seconds"
   ]
  },
  {
   "cell_type": "code",
   "execution_count": 93,
   "metadata": {
    "autoscroll": false,
    "collapsed": false,
    "ein.tags": "worksheet-0",
    "slideshow": {
     "slide_type": "-"
    }
   },
   "outputs": [],
   "source": [
    "df_hubs['C'] = [clusters[h] for h in hubs_ids]"
   ]
  },
  {
   "cell_type": "code",
   "execution_count": 94,
   "metadata": {
    "autoscroll": false,
    "collapsed": false,
    "ein.tags": "worksheet-0",
    "slideshow": {
     "slide_type": "-"
    }
   },
   "outputs": [
    {
     "data": {
      "text/plain": [
       "   degree                  id         C\n",
       "0    2100  824797212425191425  0.024803\n",
       "1   12217            87818409  0.004283\n",
       "2    1225                 767  0.043023\n",
       "3    1824                 989  0.018357\n",
       "4    4512             2884771  0.010711"
      ]
     },
     "execution_count": 94,
     "metadata": {},
     "output_type": "execute_result"
    }
   ],
   "source": [
    "df_hubs.head()"
   ]
  },
  {
   "cell_type": "code",
   "execution_count": 120,
   "metadata": {
    "autoscroll": false,
    "collapsed": false,
    "ein.tags": "worksheet-0",
    "slideshow": {
     "slide_type": "-"
    }
   },
   "outputs": [
    {
     "data": {
      "text/plain": [
       "10"
      ]
     },
     "execution_count": 120,
     "metadata": {},
     "output_type": "execute_result"
    }
   ],
   "source": [
    "df_hubs = df_hubs.sort_values('degree', ascending=False)\n",
    "df_hubs.shape[0]*2/60"
   ]
  },
  {
   "cell_type": "code",
   "execution_count": 125,
   "metadata": {
    "autoscroll": false,
    "collapsed": false,
    "ein.tags": "worksheet-0",
    "slideshow": {
     "slide_type": "-"
    }
   },
   "outputs": [
    {
     "name": "stdout",
     "output_type": "stream",
     "text": [
      "705\n"
     ]
    }
   ],
   "source": [
    "start = datetime.datetime.now()\n",
    "closeness = [nx.closeness_centrality(g_und, df_hubs['id'][i]) for i in range(df_hubs.shape[0])]\n",
    "end = datetime.datetime.now()\n",
    "print (end-start).seconds "
   ]
  },
  {
   "cell_type": "code",
   "execution_count": 127,
   "metadata": {
    "autoscroll": false,
    "collapsed": false,
    "ein.tags": "worksheet-0",
    "slideshow": {
     "slide_type": "-"
    }
   },
   "outputs": [],
   "source": [
    "df_hubs['cc'] = closeness"
   ]
  },
  {
   "cell_type": "code",
   "execution_count": 128,
   "metadata": {
    "autoscroll": false,
    "collapsed": false,
    "ein.tags": "worksheet-0",
    "slideshow": {
     "slide_type": "-"
    }
   },
   "outputs": [
    {
     "data": {
      "text/plain": [
       "     degree        id         C        cc\n",
       "73    19065    807095  0.002633  0.417001\n",
       "204   14637   1652541  0.003601  0.510699\n",
       "277   13144   2467791  0.004233  0.440488\n",
       "1     12217  87818409  0.004283  0.434341\n",
       "141   10752    816653  0.002871  0.459824"
      ]
     },
     "execution_count": 128,
     "metadata": {},
     "output_type": "execute_result"
    }
   ],
   "source": [
    "df_hubs.head()"
   ]
  },
  {
   "cell_type": "code",
   "execution_count": 155,
   "metadata": {
    "autoscroll": false,
    "collapsed": false,
    "ein.tags": "worksheet-0",
    "slideshow": {
     "slide_type": "-"
    }
   },
   "outputs": [],
   "source": [
    "temp = g.in_degree()\n",
    "in_degree = {n:d for n,d in temp}\n",
    "df_hubs['in_degree'] = [in_degree[h] for h in df_hubs['id']]"
   ]
  },
  {
   "cell_type": "code",
   "execution_count": 161,
   "metadata": {
    "autoscroll": false,
    "collapsed": false,
    "ein.tags": "worksheet-0",
    "slideshow": {
     "slide_type": "-"
    }
   },
   "outputs": [],
   "source": [
    "temp = g.out_degree()\n",
    "out_degree = {n:d for n,d in temp}\n",
    "df_hubs['out_degree'] = [out_degree[h] for h in df_hubs['id']]"
   ]
  },
  {
   "cell_type": "code",
   "execution_count": 162,
   "metadata": {
    "autoscroll": false,
    "collapsed": false,
    "ein.tags": "worksheet-0",
    "slideshow": {
     "slide_type": "-"
    }
   },
   "outputs": [
    {
     "data": {
      "text/plain": [
       "     degree        id         C        cc  in_degree  out_degree\n",
       "73    19065    807095  0.002633  0.417001      19064           9\n",
       "204   14637   1652541  0.003601  0.510699      14629          47\n",
       "277   13144   2467791  0.004233  0.440488      13129          56\n",
       "1     12217  87818409  0.004283  0.434341      12200          54\n",
       "141   10752    816653  0.002871  0.459824      10744          29"
      ]
     },
     "execution_count": 162,
     "metadata": {},
     "output_type": "execute_result"
    }
   ],
   "source": [
    "df_hubs.head()"
   ]
  },
  {
   "cell_type": "code",
   "execution_count": 163,
   "metadata": {
    "autoscroll": false,
    "collapsed": false,
    "ein.tags": "worksheet-0",
    "slideshow": {
     "slide_type": "-"
    }
   },
   "outputs": [],
   "source": [
    "df_hubs.to_csv('hubs.csv')"
   ]
  },
  {
   "cell_type": "code",
   "execution_count": 164,
   "metadata": {
    "autoscroll": false,
    "collapsed": false,
    "ein.tags": "worksheet-0",
    "slideshow": {
     "slide_type": "-"
    }
   },
   "outputs": [
    {
     "data": {
      "text/plain": [
       "             degree            id           C          cc     in_degree  \\\n",
       "count    318.000000  3.180000e+02  318.000000  318.000000    318.000000   \n",
       "mean    2243.830189  5.006157e+16    0.036563    0.422167   2100.584906   \n",
       "std     2104.874429  1.939271e+17    0.032751    0.031432   2135.839286   \n",
       "min     1007.000000  7.670000e+02    0.002633    0.345926     86.000000   \n",
       "25%     1178.500000  1.595169e+07    0.014360    0.401798   1094.250000   \n",
       "50%     1489.000000  3.576536e+07    0.025866    0.421554   1389.000000   \n",
       "75%     2446.250000  3.074657e+08    0.046403    0.442363   2171.500000   \n",
       "max    19065.000000  8.772278e+17    0.166554    0.549705  19064.000000   \n",
       "\n",
       "        out_degree  \n",
       "count   318.000000  \n",
       "mean    586.842767  \n",
       "std     783.172276  \n",
       "min       0.000000  \n",
       "25%      26.250000  \n",
       "50%     137.500000  \n",
       "75%    1033.250000  \n",
       "max    4130.000000  "
      ]
     },
     "execution_count": 164,
     "metadata": {},
     "output_type": "execute_result"
    }
   ],
   "source": [
    "df_hubs.describe()"
   ]
  },
  {
   "cell_type": "code",
   "execution_count": 186,
   "metadata": {
    "autoscroll": false,
    "collapsed": false,
    "ein.tags": "worksheet-0",
    "slideshow": {
     "slide_type": "-"
    }
   },
   "outputs": [],
   "source": [
    "infos = {'g':g_info, 'g_er':g_er_info , 'g_ba':g_ba_info }\n",
    "with open(\"network_infos.json\", 'w') as f:\n",
    "    f.write(json.dumps(infos, indent =4) )    "
   ]
  },
  {
   "cell_type": "code",
   "execution_count": 187,
   "metadata": {
    "autoscroll": false,
    "collapsed": false,
    "ein.tags": "worksheet-0",
    "slideshow": {
     "slide_type": "-"
    }
   },
   "outputs": [],
   "source": [
    "import pandas as pd"
   ]
  },
  {
   "cell_type": "code",
   "execution_count": 202,
   "metadata": {
    "autoscroll": false,
    "collapsed": false,
    "ein.tags": "worksheet-0",
    "slideshow": {
     "slide_type": "-"
    }
   },
   "outputs": [],
   "source": [
    "index = list(set(g_info.keys()) | set(g_er_info.keys()))\n",
    "index.sort()"
   ]
  },
  {
   "cell_type": "code",
   "execution_count": 203,
   "metadata": {
    "autoscroll": false,
    "collapsed": false,
    "ein.tags": "worksheet-0",
    "slideshow": {
     "slide_type": "-"
    }
   },
   "outputs": [],
   "source": [
    "info = pd.DataFrame( index= index, columns = ['g', 'g_und', 'g_er', 'g_ba'])"
   ]
  },
  {
   "cell_type": "code",
   "execution_count": 204,
   "metadata": {
    "autoscroll": false,
    "collapsed": false,
    "ein.tags": "worksheet-0",
    "slideshow": {
     "slide_type": "-"
    }
   },
   "outputs": [],
   "source": [
    "for i in index:\n",
    "    info['g'][i] = g_info.get(i)\n",
    "    info['g_und'][i] = g_und_info.get(i)\n",
    "    info['g_ba'][i] = g_ba_info.get(i)\n",
    "    info['g_er'][i] = g_er_info.get(i)\n"
   ]
  },
  {
   "cell_type": "code",
   "execution_count": 205,
   "metadata": {
    "autoscroll": false,
    "collapsed": false,
    "ein.tags": "worksheet-0",
    "slideshow": {
     "slide_type": "-"
    }
   },
   "outputs": [
    {
     "data": {
      "text/plain": [
       "                 g    g_und     g_er     g_ba\nL          2501757  1895878  4318406  4989628\nN            65729    65729    65729    65729\ndensity    0.00058  0.00088    0.001  0.00231\ngamma          2.6     None     None      2.9\ngamma_in       2.4     None     None     None\ngamma_out      2.9     None     None     None\ngamma_tot      2.6     None     None     None\nk_avg           38       57       65      151\nk_in_max     19064     None      109     None\nk_in_min         0     None       36     None\nk_max        19073    19065      183     3640\nk_min            1        1       84       76\nk_out_max     4130     None      103     None\nk_out_min        0     None       35     None"
      ]
     },
     "execution_count": 205,
     "metadata": {},
     "output_type": "execute_result"
    }
   ],
   "source": [
    "info"
   ]
  },
  {
   "cell_type": "code",
   "execution_count": 206,
   "metadata": {
    "autoscroll": false,
    "collapsed": false,
    "ein.tags": "worksheet-0",
    "slideshow": {
     "slide_type": "-"
    }
   },
   "outputs": [],
   "source": [
    "#info = info.replace('None', '')\n",
    "#info"
   ]
  },
  {
   "cell_type": "code",
   "execution_count": 207,
   "metadata": {
    "autoscroll": false,
    "collapsed": false,
    "ein.tags": "worksheet-0",
    "slideshow": {
     "slide_type": "-"
    }
   },
   "outputs": [],
   "source": [
    "with open('../../report/statistics.tex','w') as f:\n",
    "    f.write(info.to_latex())"
   ]
  },
  {
   "cell_type": "code",
   "execution_count": 217,
   "metadata": {
    "autoscroll": false,
    "collapsed": false,
    "ein.tags": "worksheet-0",
    "slideshow": {
     "slide_type": "-"
    }
   },
   "outputs": [],
   "source": [
    "nodes= [nd for nd in g_ita.in_degree()]"
   ]
  },
  {
   "cell_type": "code",
   "execution_count": 219,
   "metadata": {
    "autoscroll": false,
    "collapsed": false,
    "ein.tags": "worksheet-0",
    "slideshow": {
     "slide_type": "-"
    }
   },
   "outputs": [
    {
     "data": {
      "text/plain": [
       "2327"
      ]
     },
     "execution_count": 219,
     "metadata": {},
     "output_type": "execute_result"
    }
   ],
   "source": [
    "len(nodes)"
   ]
  },
  {
   "cell_type": "markdown",
   "metadata": {
    "ein.tags": "worksheet-0",
    "slideshow": {
     "slide_type": "-"
    }
   },
   "source": [
    "Italian subnetwork"
   ]
  },
  {
   "cell_type": "code",
   "execution_count": 223,
   "metadata": {
    "autoscroll": false,
    "collapsed": false,
    "ein.tags": "worksheet-0",
    "slideshow": {
     "slide_type": "-"
    }
   },
   "outputs": [],
   "source": [
    "g_ita = nx.read_edgelist('../network/networks/g_ita_edge_list.txt',\n",
    "                     create_using=nx.DiGraph(), nodetype=int, data=False)"
   ]
  },
  {
   "cell_type": "code",
   "execution_count": 224,
   "metadata": {
    "autoscroll": false,
    "collapsed": false,
    "ein.tags": "worksheet-0",
    "slideshow": {
     "slide_type": "-"
    }
   },
   "outputs": [
    {
     "data": {
      "text/plain": [
       "{'L': 70045,\n 'N': 2327,\n 'density': 0.01294,\n 'k_avg': 30,\n 'k_in_max': 961,\n 'k_in_min': 0,\n 'k_max': 1059,\n 'k_min': 1,\n 'k_out_max': 583,\n 'k_out_min': 0}"
      ]
     },
     "execution_count": 224,
     "metadata": {},
     "output_type": "execute_result"
    }
   ],
   "source": [
    "g_ita_info = network_summary(g_ita)\n",
    "g_ita_info"
   ]
  },
  {
   "cell_type": "code",
   "execution_count": 225,
   "metadata": {
    "autoscroll": false,
    "collapsed": false,
    "ein.tags": "worksheet-0",
    "slideshow": {
     "slide_type": "-"
    }
   },
   "outputs": [
    {
     "data": {
      "text/plain": [
       "2706301"
      ]
     },
     "execution_count": 225,
     "metadata": {},
     "output_type": "execute_result"
    }
   ],
   "source": [
    "g_ita_info['N']*(g_ita_info['N']-1)/2"
   ]
  },
  {
   "cell_type": "code",
   "execution_count": 232,
   "metadata": {
    "autoscroll": false,
    "collapsed": false,
    "ein.tags": "worksheet-0",
    "slideshow": {
     "slide_type": "-"
    }
   },
   "outputs": [],
   "source": [
    "# proability distributions with log binning\n",
    "# tot degree\n",
    "prob = True\n",
    "ita_degrees =[d for n,d in g_ita.degree()]\n",
    "ita_degree_means, ita_degree_log_probs = log_binning(ita_degrees, prob =prob)"
   ]
  },
  {
   "cell_type": "code",
   "execution_count": null,
   "metadata": {
    "autoscroll": false,
    "collapsed": false,
    "ein.tags": "worksheet-0",
    "slideshow": {
     "slide_type": "-"
    }
   },
   "outputs": [],
   "source": [
    "# in-degree\n",
    "in_degrees =[d for n,d in g.in_degree()]\n",
    "in_degree_means, in_degree_log_probs = log_binning(in_degrees, prob =prob)\n",
    "# out-degree\n",
    "out_degrees =[d for n,d in g.out_degree()]\n",
    "out_degree_means, out_degree_log_probs = log_binning(out_degrees , prob =prob)\n",
    "#ER-degree\n",
    "er_degrees =[d for n,d in g_er.degree()]\n",
    "er_degree_means, er_degree_log_probs = log_binning(er_degrees, prob =prob)\n",
    "#BA-degree\n",
    "ba_degrees =[d for n,d in g_ba.degree()]\n",
    "ba_degree_means, ba_degree_log_probs = log_binning(ba_degrees, prob = prob)\n"
   ]
  },
  {
   "cell_type": "code",
   "execution_count": 243,
   "metadata": {
    "autoscroll": false,
    "collapsed": false,
    "ein.tags": "worksheet-0",
    "slideshow": {
     "slide_type": "-"
    }
   },
   "outputs": [
    {
     "name": "stdout",
     "output_type": "stream",
     "text": [
      "2.3\n"
     ]
    },
    {
     "data": {
      "image/png": "[encoded data removed]",
      "text/plain": [
       "<matplotlib.figure.Figure at 0x7f1c57113210>"
      ]
     },
     "metadata": {},
     "output_type": "display_data"
    }
   ],
   "source": [
    "fig, ax = plt.subplots(figsize = FIGSIZE_ONECOL)\n",
    "plt.plot(ita_degree_means, ita_degree_log_probs, 'o', color='green',   label='Degree', markersize = 5)\n",
    "\n",
    "# barabasi\n",
    "#plt.plot(ba_degree_means, ba_degree_log_probs, 'o', color='orange',   label='BA degree', markersize = 5)\n",
    "#gamma_ba = regression(ba_degree_means, ba_degree_log_probs, 6, 12, color='orange').round(1)\n",
    "#plt.text(1000,float(1)/100, \"$\\gamma_{BA}\\sim $\"+\" {}\".format(gamma_ba), color = 'orange')\n",
    "\n",
    "split = 6\n",
    "gamma_ita_1 = regression(ita_degree_means, ita_degree_log_probs, 1,split).round(1)\n",
    "gamma_ita_2 = regression(ita_degree_means, ita_degree_log_probs, split, 10).round(1)\n",
    "print gamma_ita_2\n",
    "\n",
    "plt.text(2, (float(1)/100), \"$\\gamma \\sim $ {}\".format(gamma_ita_1))\n",
    "plt.text(100,float(1)/10000, \"$\\gamma \\sim $\"+ \"{}\".format(gamma_ita_2))\n",
    "# info on the splitting\n",
    "\n",
    "degree_split = degree_means[split].round(0)\n",
    "plt.axvline(degree_split, 0,1000, linestyle='--')\n",
    "plt.text(1.5*degree_split, float(1)/10**5, \"$k_{split} \\eqsim$\"+\"{:.0f}\".format(degree_split), fontsize=SMALL_SIZE)\n",
    "\n",
    "plt.title(\"Degree distribution of the Italian network\")\n",
    "plt.xlabel(\"Degree, $k$\")\n",
    "plt.ylabel(\"Probability density, $p(k)$\")                               \n",
    "plt.loglog()\n",
    "plt.grid()\n",
    "plt.legend()\n",
    "plt.tight_layout()\n",
    "plt.savefig(\"imgs/tot_degree_distribution_ita.pdf\")                                     \n"
   ]
  },
  {
   "cell_type": "code",
   "execution_count": 294,
   "metadata": {
    "autoscroll": false,
    "collapsed": false,
    "ein.tags": "worksheet-0",
    "slideshow": {
     "slide_type": "-"
    }
   },
   "outputs": [
    {
     "name": "stdout",
     "output_type": "stream",
     "text": [
      "2.77688299384\n"
     ]
    }
   ],
   "source": [
    "times= []\n",
    "\n",
    "start = datetime.datetime.now()\n",
    "ita_distances = sample_distances(g_ita, 2500)\n",
    "end = datetime.datetime.now()\n",
    "\n"
   ]
  },
  {
   "cell_type": "code",
   "execution_count": 295,
   "metadata": {
    "autoscroll": false,
    "collapsed": false,
    "ein.tags": "worksheet-0",
    "slideshow": {
     "slide_type": "-"
    }
   },
   "outputs": [],
   "source": [
    "d_mean_ita = np.mean(ita_distances)\n",
    "d_std_ita = np.mean(ita_distances)/np.sqrt(len(ita_distances))\n",
    "s_ita = np.std(ita_distances)"
   ]
  },
  {
   "cell_type": "code",
   "execution_count": 298,
   "metadata": {
    "autoscroll": false,
    "collapsed": false,
    "ein.tags": "worksheet-0",
    "slideshow": {
     "slide_type": "-"
    }
   },
   "outputs": [
    {
     "data": {
      "image/png": "[encoded data removed]",
      "text/plain": [
       "<matplotlib.figure.Figure at 0x7f1c57b63950>"
      ]
     },
     "metadata": {},
     "output_type": "display_data"
    }
   ],
   "source": [
    "# average path length distribution\n",
    "plt.subplots(figsize = FIGSIZE_ONECOL)\n",
    "prova=plt.hist(ita_distances,bins = np.arange(0,8))\n",
    "plt.title(\"Shortest path lengths distribution\")\n",
    "plt.xlabel(\"Shortest path lengths, d\")\n",
    "plt.ylabel(\"Counts\")\n",
    "plt.tight_layout()\n",
    "plt.xticks(np.arange(max(ita_distances)+5))\n",
    "plt.axvline(np.mean(ita_distances), color=\"red\")\n",
    "plt.text(5,800, \"n = {:.0f}\".format(len(ita_distances)), fontsize = SMALL_SIZE)\n",
    "plt.text(5,700, \"<d> = {:.3f}\".format(d_mean_ita), fontsize =SMALL_SIZE)\n",
    "plt.text(5,600, \"$\\sigma$\"+\"(<d>) = {:.3f}\".format(d_std_ita),fontsize =SMALL_SIZE)\n",
    "plt.text(5,500, \"s = {:.3f}\".format(s_ita),fontsize =SMALL_SIZE)\n",
    "plt.savefig('./imgs/paths_hist_ita.pdf', format='pdf')"
   ]
  },
  {
   "cell_type": "code",
   "execution_count": 281,
   "metadata": {
    "autoscroll": false,
    "collapsed": false,
    "ein.tags": "worksheet-0",
    "slideshow": {
     "slide_type": "-"
    }
   },
   "outputs": [
    {
     "data": {
      "image/png": "[encoded data removed]",
      "text/plain": [
       "<matplotlib.figure.Figure at 0x7f1c574ae7d0>"
      ]
     },
     "metadata": {},
     "output_type": "display_data"
    }
   ],
   "source": []
  },
  {
   "cell_type": "code",
   "execution_count": null,
   "metadata": {
    "autoscroll": false,
    "collapsed": false,
    "ein.tags": "worksheet-0",
    "slideshow": {
     "slide_type": "-"
    }
   },
   "outputs": [],
   "source": []
  },
  {
   "cell_type": "code",
   "execution_count": 321,
   "metadata": {
    "autoscroll": false,
    "collapsed": false,
    "ein.tags": "worksheet-0",
    "slideshow": {
     "slide_type": "-"
    }
   },
   "outputs": [],
   "source": [
    "nodes_ita= [n for n,d in g_ita.in_degree()]\n",
    "g_und_ita = g_ita.to_undirected()\n",
    "clusters_ita = nx.clustering(g_und_ita, nodes_ita)\n",
    "\n",
    "#clusters_ita"
   ]
  },
  {
   "cell_type": "code",
   "execution_count": 322,
   "metadata": {
    "autoscroll": false,
    "collapsed": false,
    "ein.tags": "worksheet-0",
    "slideshow": {
     "slide_type": "-"
    }
   },
   "outputs": [],
   "source": [
    "clust_ita = [clusters_ita[nd] for nd in nodes_ita]\n",
    "#df_clust_ita = pd.DataFrame({'id':nodes_ita, 'C': clust_ita, 'degree' : deg})\n",
    "#df_clust.head()\n"
   ]
  },
  {
   "cell_type": "code",
   "execution_count": 323,
   "metadata": {
    "autoscroll": false,
    "collapsed": false,
    "ein.tags": "worksheet-0",
    "slideshow": {
     "slide_type": "-"
    }
   },
   "outputs": [],
   "source": [
    "C_mean_ita = np.mean(clust_ita)\n",
    "C_std_ita = np.std(clust_ita)\n",
    "C_mean_std_ita = np.std(clust_ita)/np.sqrt(len(clust_ita))"
   ]
  },
  {
   "cell_type": "code",
   "execution_count": 330,
   "metadata": {
    "autoscroll": false,
    "collapsed": false,
    "ein.tags": "worksheet-0",
    "slideshow": {
     "slide_type": "-"
    }
   },
   "outputs": [
    {
     "data": {
      "image/png": "[encoded data removed]",
      "text/plain": [
       "<matplotlib.figure.Figure at 0x7f1c5789ef10>"
      ]
     },
     "metadata": {},
     "output_type": "display_data"
    }
   ],
   "source": [
    "# clustering coef distribution\n",
    "plt.subplots(figsize = FIGSIZE_ONECOL)\n",
    "prova=plt.hist(clust_ita)\n",
    "plt.title(\"Clustering coefficient distribution\")\n",
    "plt.xlabel(\"Clustering coefficient, C\")\n",
    "plt.ylabel(\"Number of nodes\")\n",
    "plt.tight_layout()\n",
    "#plt.xticks(np.arange(max(clust)+0.1))\n",
    "plt.axvline(np.mean(clust_ita), color=\"red\")\n",
    "xpos = 0.6\n",
    "plt.text(xpos,600, \"n = {:.0f}\".format(len(clust_ita)), fontsize =SMALL_SIZE)\n",
    "plt.text(xpos,500, \"<C> = {:.3f}\".format(C_mean_ita), fontsize = SMALL_SIZE)\n",
    "plt.text(xpos,400, \"$\\sigma$\"+\"(C) = {:.3f}\".format(C_std_ita), fontsize = SMALL_SIZE)\n",
    "plt.text(xpos,300, \"$\\sigma$\"+\"(<C>) = {:.3f}\".format(C_mean_std_ita) , fontsize =SMALL_SIZE)\n",
    "plt.savefig('./imgs/cluster_coef_hist_ita.pdf', format='pdf')\n"
   ]
  },
  {
   "cell_type": "code",
   "execution_count": 331,
   "metadata": {
    "autoscroll": false,
    "collapsed": false,
    "ein.tags": "worksheet-0",
    "slideshow": {
     "slide_type": "-"
    }
   },
   "outputs": [],
   "source": [
    "g_ita_info['C_avg'] = C_mean_ita"
   ]
  },
  {
   "cell_type": "markdown",
   "metadata": {
    "ein.tags": "worksheet-0",
    "slideshow": {
     "slide_type": "-"
    }
   },
   "source": [
    "Triangles"
   ]
  }
 ],
 "metadata": {
  "kernelspec": {
   "display_name": "Python 2",
   "name": "python2"
  },
  "name": "network_properties.ipynb"
 },
 "nbformat": 4,
 "nbformat_minor": 2
}
