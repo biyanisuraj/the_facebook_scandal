{
 "cells": [
  {
   "cell_type": "code",
   "execution_count": 1,
   "metadata": {
    "autoscroll": false,
    "collapsed": false,
    "ein.tags": "worksheet-0",
    "slideshow": {
     "slide_type": "-"
    }
   },
   "outputs": [],
   "source": [
    "import ndlib.models.epidemics.SIModel as si\n",
    "import ndlib.models.epidemics.SIRModel as sir\n",
    "import ndlib.models.epidemics.SISModel as sis\n",
    "import ndlib.models.epidemics.ThresholdModel as threshold\n",
    "import ndlib.models.ModelConfig as mc\n",
    "import networkx as nx\n",
    "from ndlib.viz.mpl.DiffusionPrevalence import DiffusionPrevalence\n",
    "from ndlib.viz.mpl.DiffusionTrend import DiffusionTrend\n",
    "from ndlib.viz.mpl.TrendComparison import DiffusionTrendComparison"
   ]
  },
  {
   "cell_type": "code",
   "execution_count": 41,
   "metadata": {
    "autoscroll": false,
    "collapsed": false,
    "ein.tags": "worksheet-0",
    "slideshow": {
     "slide_type": "-"
    }
   },
   "outputs": [],
   "source": [
    "import datetime\n",
    "import time\n",
    "import numpy as np"
   ]
  },
  {
   "cell_type": "code",
   "execution_count": 165,
   "metadata": {
    "autoscroll": false,
    "collapsed": false,
    "ein.tags": "worksheet-0",
    "slideshow": {
     "slide_type": "-"
    }
   },
   "outputs": [],
   "source": [
    "# plot settings\n",
    "import matplotlib.pyplot as plt\n",
    "\n",
    "FIGSIZE_TWOCOL = (10,4)\n",
    "FIGSIZE_ONECOL = (5,4)\n",
    "\n",
    "SMALL_SIZE = 13\n",
    "MEDIUM_SIZE = 15\n",
    "BIGGER_SIZE = 20\n",
    "\n",
    "plt.rc('font', size= MEDIUM_SIZE)          # controls default text sizes\n",
    "plt.rc('axes', titlesize= MEDIUM_SIZE)     # fontsize of the axes title\n",
    "plt.rc('axes', labelsize= MEDIUM_SIZE)    # fontsize of the x and y labels\n",
    "plt.rc('xtick', labelsize=SMALL_SIZE)    # fontsize of the tick labels\n",
    "plt.rc('ytick', labelsize=SMALL_SIZE)    # fontsize of the tick labels\n",
    "plt.rc('legend', fontsize=SMALL_SIZE)    # legend fontsize\n",
    "plt.rc('figure', titlesize=BIGGER_SIZE)  # fontsize of the figure title\n"
   ]
  },
  {
   "cell_type": "code",
   "execution_count": 114,
   "metadata": {
    "autoscroll": false,
    "collapsed": false,
    "ein.tags": "worksheet-0",
    "slideshow": {
     "slide_type": "-"
    }
   },
   "outputs": [],
   "source": [
    "nytimes_id = 807095\n",
    "repubblica_id =18935802\n",
    "toscanaoggi_id = 76054893\n",
    "sardegna_id = 1240056290 #@SardegnaPRadio\n",
    "pensodisi_id = 753694308373499908\n",
    "sputnick_id =2817304093"
   ]
  },
  {
   "cell_type": "code",
   "execution_count": 5,
   "metadata": {
    "autoscroll": false,
    "collapsed": false,
    "ein.tags": "worksheet-0",
    "slideshow": {
     "slide_type": "-"
    }
   },
   "outputs": [],
   "source": [
    "g = nx.read_edgelist('../network/networks/edge_list.txt',\n",
    "                         create_using=nx.DiGraph(), nodetype=int, data=False)"
   ]
  },
  {
   "cell_type": "code",
   "execution_count": 6,
   "metadata": {
    "autoscroll": false,
    "collapsed": false,
    "ein.tags": "worksheet-0",
    "slideshow": {
     "slide_type": "-"
    }
   },
   "outputs": [],
   "source": [
    "g = g.reverse(copy=True)"
   ]
  },
  {
   "cell_type": "code",
   "execution_count": 7,
   "metadata": {
    "autoscroll": false,
    "collapsed": false,
    "ein.tags": "worksheet-0",
    "slideshow": {
     "slide_type": "-"
    }
   },
   "outputs": [],
   "source": [
    "degrees = [d for n, d in g.degree]\n",
    "mean_k = sum(degrees)/len(degrees)\n"
   ]
  },
  {
   "cell_type": "code",
   "execution_count": 176,
   "metadata": {
    "autoscroll": false,
    "collapsed": false,
    "ein.tags": "worksheet-0",
    "slideshow": {
     "slide_type": "-"
    }
   },
   "outputs": [
    {
     "name": "stdout",
     "output_type": "stream",
     "text": [
      "0.01\n",
      "0.1\n"
     ]
    }
   ],
   "source": [
    "# model configuration\n",
    "beta = 0.01\n",
    "beta = 0.01\n",
    "\n",
    "mu = beta*1.5\n",
    "Lambda = beta/mu\n",
    "\n",
    "mu = beta*10\n",
    "Lambda_loc = beta/mu\n",
    "\n",
    "print beta\n",
    "print mu\n",
    "###########################################################\n",
    "cfg = mc.Configuration()\n",
    "cfg.add_model_parameter('beta', beta)\n",
    "cfg.add_model_parameter('gamma', mu)\n",
    "cfg.add_model_initial_configuration(\"Infected\", [nytimes_id])\n",
    "model_ny = sir.SIRModel(g)\n",
    "model_ny.set_initial_status(cfg)\n",
    "model_ny.name= '@nytimes'\n",
    "########################################################### \n",
    "cfg_rep = mc.Configuration()\n",
    "cfg_rep.add_model_parameter('beta', beta)\n",
    "cfg_rep.add_model_parameter('gamma', mu)\n",
    "cfg_rep.add_model_initial_configuration(\"Infected\", [repubblica_id])\n",
    "model_rep = sir.SIRModel(g)\n",
    "model_rep.set_initial_status(cfg_rep)\n",
    "model_rep.name= '@repubblica'\n",
    "###########################################################\n",
    "cfg_sput = mc.Configuration()\n",
    "cfg_sput.add_model_parameter('beta', beta)\n",
    "cfg_sput.add_model_parameter('gamma', mu)\n",
    "cfg_sput.add_model_initial_configuration(\"Infected\", [sputnick_id])\n",
    "model_sput = sir.SIRModel(g)\n",
    "model_sput.set_initial_status(cfg_sput)\n",
    "model_sput.name= '@sputnik_italia'\n",
    "###########################################################\n",
    "\n"
   ]
  },
  {
   "cell_type": "code",
   "execution_count": 145,
   "metadata": {
    "autoscroll": false,
    "collapsed": false,
    "ein.tags": "worksheet-0",
    "slideshow": {
     "slide_type": "-"
    }
   },
   "outputs": [],
   "source": [
    "iterations_ny = model_ny.iteration_bunch(200)\n",
    "trends_ny = model_ny.build_trends(iterations_ny)"
   ]
  },
  {
   "cell_type": "code",
   "execution_count": 146,
   "metadata": {
    "autoscroll": false,
    "collapsed": false,
    "ein.tags": "worksheet-0",
    "slideshow": {
     "slide_type": "-"
    }
   },
   "outputs": [],
   "source": [
    "iterations_rep = model_rep.iteration_bunch(200)\n",
    "trends_rep = model_rep.build_trends(iterations_rep)"
   ]
  },
  {
   "cell_type": "code",
   "execution_count": 147,
   "metadata": {
    "autoscroll": false,
    "collapsed": false,
    "ein.tags": "worksheet-0",
    "slideshow": {
     "slide_type": "-"
    }
   },
   "outputs": [],
   "source": [
    "iterations_sput = model_sput.iteration_bunch(200)\n",
    "trends_sput = model_sput.build_trends(iterations_sput)"
   ]
  },
  {
   "cell_type": "code",
   "execution_count": 154,
   "metadata": {
    "autoscroll": false,
    "collapsed": false,
    "ein.tags": "worksheet-0",
    "slideshow": {
     "slide_type": "-"
    }
   },
   "outputs": [
    {
     "name": "stdout",
     "output_type": "stream",
     "text": [
      "ny done\n"
     ]
    },
    {
     "name": "stdout",
     "output_type": "stream",
     "text": [
      "rep done\n"
     ]
    }
   ],
   "source": [
    "# change mu to higher values for a 'local news' simulation\n",
    "iterations_ny_loc = model_ny.iteration_bunch(200)\n",
    "trends_ny_loc = model_ny.build_trends(iterations_ny_loc)\n",
    "print 'ny done'\n",
    "\n",
    "iterations_rep_loc = model_rep.iteration_bunch(200)\n",
    "trends_rep_loc = model_rep.build_trends(iterations_rep_loc)\n",
    "print 'rep done'\n",
    "\n",
    "iterations_sput_loc = model_sput.iteration_bunch(200)\n",
    "trends_sput_loc = model_sput.build_trends(iterations_sput_loc)"
   ]
  },
  {
   "cell_type": "code",
   "execution_count": 148,
   "metadata": {
    "autoscroll": false,
    "collapsed": false,
    "ein.tags": "worksheet-0",
    "slideshow": {
     "slide_type": "-"
    }
   },
   "outputs": [],
   "source": [
    "N = len(degrees)\n",
    "N = 49728\n",
    "cod_inf = model_rep.get_status_map()['Infected']\n",
    "infected_ny   = np.array(trends_ny[0]['trends']['node_count'][cod_inf]).astype(float)/N\n",
    "infected_rep  = np.array(trends_rep[0]['trends']['node_count'][cod_inf]).astype(float)/N\n",
    "infected_sput = np.array(trends_sput[0]['trends']['node_count'][cod_inf]).astype(float)/N"
   ]
  },
  {
   "cell_type": "code",
   "execution_count": 156,
   "metadata": {
    "autoscroll": false,
    "collapsed": false,
    "ein.tags": "worksheet-0",
    "slideshow": {
     "slide_type": "-"
    }
   },
   "outputs": [],
   "source": [
    "infected_ny_loc   = np.array(trends_ny_loc[0]['trends']['node_count'][cod_inf]).astype(float)/N\n",
    "infected_rep_loc  = np.array(trends_rep_loc[0]['trends']['node_count'][cod_inf]).astype(float)/N\n",
    "infected_sput_loc = np.array(trends_sput_loc[0]['trends']['node_count'][cod_inf]).astype(float)/N"
   ]
  },
  {
   "cell_type": "code",
   "execution_count": 127,
   "metadata": {
    "autoscroll": false,
    "collapsed": false,
    "ein.tags": "worksheet-0",
    "slideshow": {
     "slide_type": "-"
    }
   },
   "outputs": [
    {
     "data": {
      "text/plain": [
       "array([  2.01093951e-05,   4.62516088e-04,   7.64157014e-04,\n         9.25032175e-04,   1.20656371e-03,   1.54842342e-03,\n         1.93050193e-03,   2.27236165e-03,   2.83542471e-03,\n         3.17728443e-03])"
      ]
     },
     "execution_count": 127,
     "metadata": {},
     "output_type": "execute_result"
    }
   ],
   "source": [
    "infected_ny[:10]"
   ]
  },
  {
   "cell_type": "code",
   "execution_count": 183,
   "metadata": {
    "autoscroll": false,
    "collapsed": false,
    "ein.tags": "worksheet-0",
    "slideshow": {
     "slide_type": "-"
    }
   },
   "outputs": [
    {
     "data": {
      "image/png": "[encoded data removed]",
      "text/plain": [
       "<matplotlib.figure.Figure at 0x7f50ac889c90>"
      ]
     },
     "metadata": {},
     "output_type": "display_data"
    }
   ],
   "source": [
    "plt.subplots(figsize=FIGSIZE_ONECOL)\n",
    "plt.plot(infected_ny[:199], label =\"@nytimes-Infected\")\n",
    "plt.plot(infected_rep[:199], label = \"@repubblica-Infected\")\n",
    "plt.plot(infected_sput[:199], label =\"@sputnik_italia-Infected\")\n",
    "plt.legend()\n",
    "plt.title(\"Viral news\")\n",
    "plt.text(150,0.3, r'$\\lambda = \\frac{\\beta}{\\mu}$='+'{:.1f}'.format(Lambda))\n",
    "plt.ylim(ymax = 1)\n",
    "plt.tight_layout()\n",
    "plt.savefig('../../report/images/spreading/news_viral.pdf', format='pdf')"
   ]
  },
  {
   "cell_type": "code",
   "execution_count": 184,
   "metadata": {
    "autoscroll": false,
    "collapsed": false,
    "ein.tags": "worksheet-0",
    "slideshow": {
     "slide_type": "-"
    }
   },
   "outputs": [
    {
     "data": {
      "image/png": "[encoded data removed]",
      "text/plain": [
       "<matplotlib.figure.Figure at 0x7f50ac88f290>"
      ]
     },
     "metadata": {},
     "output_type": "display_data"
    }
   ],
   "source": [
    "plt.subplots(figsize=FIGSIZE_ONECOL)\n",
    "plt.plot(infected_ny_loc[:199], label =\"@nytimes-Infected\")\n",
    "plt.plot(infected_rep_loc[:199], label = \"@repubblica-Infected\")\n",
    "plt.plot(infected_sput_loc[:199], label =\"@sputnik_italia-Infected\")\n",
    "plt.legend()\n",
    "plt.title(\"Minor news\")\n",
    "plt.text(150,0.3, r'$\\lambda = \\frac{\\beta}{\\mu}$='+'{:.1f}'.format(Lambda_loc))\n",
    "plt.ylim(ymax = 1)\n",
    "plt.tight_layout()\n",
    "plt.savefig('../../report/images/spreading/news_minor.pdf', format='pdf')"
   ]
  },
  {
   "cell_type": "code",
   "execution_count": null,
   "metadata": {
    "autoscroll": false,
    "collapsed": false,
    "ein.tags": "worksheet-0",
    "slideshow": {
     "slide_type": "-"
    }
   },
   "outputs": [],
   "source": []
  }
 ],
 "metadata": {
  "name": "spreading_news.ipynb"
 },
 "nbformat": 4,
 "nbformat_minor": 2
}
