{
 "cells": [
  {
   "cell_type": "code",
   "execution_count": 53,
   "metadata": {
    "autoscroll": false,
    "collapsed": false,
    "ein.tags": "worksheet-0",
    "slideshow": {
     "slide_type": "-"
    }
   },
   "outputs": [],
   "source": [
    "import collections\n",
    "import networkx as nx\n",
    "import numpy as np\n",
    "import os\n",
    "import random\n",
    "from sklearn import linear_model\n",
    "import json as json"
   ]
  },
  {
   "cell_type": "code",
   "execution_count": 54,
   "metadata": {
    "autoscroll": false,
    "collapsed": false,
    "ein.tags": "worksheet-0",
    "slideshow": {
     "slide_type": "-"
    }
   },
   "outputs": [],
   "source": [
    "# plot settings\n",
    "import matplotlib.pyplot as plt\n",
    "\n",
    "FIGSIZE_TWOCOL = (10,5)\n",
    "FIGSIZE_ONECOL = (5,5)\n",
    "\n",
    "SMALL_SIZE = 13\n",
    "MEDIUM_SIZE = 15\n",
    "BIGGER_SIZE = 20\n",
    "\n",
    "plt.rc('font', size= SMALL_SIZE)          # controls default text sizes\n",
    "plt.rc('axes', titlesize= MEDIUM_SIZE)     # fontsize of the axes title\n",
    "plt.rc('axes', labelsize= MEDIUM_SIZE)    # fontsize of the x and y labels\n",
    "plt.rc('xtick', labelsize=SMALL_SIZE)    # fontsize of the tick labels\n",
    "plt.rc('ytick', labelsize=SMALL_SIZE)    # fontsize of the tick labels\n",
    "plt.rc('legend', fontsize=SMALL_SIZE)    # legend fontsize\n",
    "plt.rc('figure', titlesize=BIGGER_SIZE)  # fontsize of the figure title\n"
   ]
  },
  {
   "cell_type": "markdown",
   "metadata": {
    "ein.tags": "worksheet-0",
    "slideshow": {
     "slide_type": "-"
    }
   },
   "source": [
    "# Statistiche generali"
   ]
  },
  {
   "cell_type": "code",
   "execution_count": 4,
   "metadata": {
    "autoscroll": false,
    "collapsed": false,
    "ein.tags": "worksheet-0",
    "slideshow": {
     "slide_type": "-"
    }
   },
   "outputs": [],
   "source": [
    "g = nx.read_edgelist('../network/networks/edge_list.txt',\n",
    "                     create_using=nx.DiGraph(), nodetype=int, data=False)"
   ]
  },
  {
   "cell_type": "code",
   "execution_count": 5,
   "metadata": {
    "autoscroll": false,
    "collapsed": false,
    "ein.tags": "worksheet-0",
    "slideshow": {
     "slide_type": "-"
    }
   },
   "outputs": [],
   "source": [
    "# Erdos-Renyi random network\n",
    "g_er = nx.read_edgelist('../network/networks/er_edge_list.txt',\n",
    "                                create_using=nx.DiGraph(), nodetype=int,\n",
    "                                data=False)"
   ]
  },
  {
   "cell_type": "code",
   "execution_count": 6,
   "metadata": {
    "autoscroll": false,
    "collapsed": false,
    "ein.tags": "worksheet-0",
    "slideshow": {
     "slide_type": "-"
    }
   },
   "outputs": [],
   "source": [
    "# Barabasi-Albert network\n",
    "g_ba = nx.read_edgelist('../network/networks/ba_edge_list.txt',\n",
    "                        create_using=nx.Graph(), nodetype=int,\n",
    "                        data=False)\n"
   ]
  },
  {
   "cell_type": "code",
   "execution_count": 72,
   "metadata": {
    "autoscroll": false,
    "collapsed": false,
    "ein.tags": "worksheet-0",
    "slideshow": {
     "slide_type": "-"
    }
   },
   "outputs": [],
   "source": [
    "def network_summary(g, directed=True):\n",
    "    \"\"\" returns dictionary with the network informations\"\"\"\n",
    "\n",
    "    if(directed):\n",
    "        \"\"\"undirected graph statistics for directed graph, \n",
    "        NOTE: reciprocal links are lost\"\"\"\n",
    "        g_und = g.to_undirected()\n",
    "    else:\n",
    "        g_und = g\n",
    "        \n",
    "    g_info= {}\n",
    "    g_info['N'] = nx.number_of_nodes(g)\n",
    "    g_info['L'] = nx.number_of_edges(g)\n",
    "\n",
    "    degrees_und = [d for n,d in g_und.degree()]\n",
    "\n",
    "    g_info['d_avg_und'] = int(np.mean(degrees_und))\n",
    "    g_info['d_max_und'] = np.max(degrees_und)\n",
    "    g_info['d_min_und'] = np.min(degrees_und)\n",
    "\n",
    "    if(directed):\n",
    "        \n",
    "        in_degrees = [d for n, d in g.in_degree()]\n",
    "        out_degrees = [d for n, d in g.out_degree()]\n",
    "        degrees = [d for n,d in g.degree()]\n",
    "\n",
    "        g_info['d_avg'] = int(np.mean(in_degrees))\n",
    "        g_info['d_in_max'] = np.max(in_degrees)\n",
    "        g_info['d_in_min'] = np.min(in_degrees)\n",
    "        g_info['d_out_max'] = np.max(out_degrees)\n",
    "        g_info['d_out_min'] = np.min(out_degrees)\n",
    "        g_info['d_max'] = np.max(degrees)\n",
    "        g_info['d_min'] = np.min(degrees)\n",
    "\n",
    "        \n",
    "    return g_info"
   ]
  },
  {
   "cell_type": "code",
   "execution_count": 73,
   "metadata": {
    "autoscroll": false,
    "collapsed": false,
    "ein.tags": "worksheet-0",
    "slideshow": {
     "slide_type": "-"
    }
   },
   "outputs": [],
   "source": [
    "g_info = network_summary(g, directed = True)"
   ]
  },
  {
   "cell_type": "code",
   "execution_count": 74,
   "metadata": {
    "autoscroll": false,
    "collapsed": false,
    "ein.tags": "worksheet-0",
    "slideshow": {
     "slide_type": "-"
    }
   },
   "outputs": [],
   "source": [
    "g_er_info = network_summary(g_er, directed = True)"
   ]
  },
  {
   "cell_type": "code",
   "execution_count": 30,
   "metadata": {
    "autoscroll": false,
    "collapsed": false,
    "ein.tags": "worksheet-0",
    "slideshow": {
     "slide_type": "-"
    }
   },
   "outputs": [],
   "source": [
    "g_ba_info = network_summary(g_ba , directed = False)"
   ]
  },
  {
   "cell_type": "code",
   "execution_count": null,
   "metadata": {
    "autoscroll": false,
    "collapsed": false,
    "ein.tags": "worksheet-0",
    "slideshow": {
     "slide_type": "-"
    }
   },
   "outputs": [],
   "source": [
    "infos = {'g':g_info, 'g_er':g_er_info , 'g_ba':g_ba_info }"
   ]
  },
  {
   "cell_type": "code",
   "execution_count": 36,
   "metadata": {
    "autoscroll": false,
    "collapsed": false,
    "ein.tags": "worksheet-0",
    "slideshow": {
     "slide_type": "-"
    }
   },
   "outputs": [],
   "source": [
    "with open(\"network_infos.json\", 'w') as f:\n",
    "    f.write(json.dumps(infos, indent =4) )    "
   ]
  },
  {
   "cell_type": "code",
   "execution_count": 10,
   "metadata": {
    "autoscroll": false,
    "collapsed": false,
    "ein.tags": "worksheet-0",
    "slideshow": {
     "slide_type": "-"
    }
   },
   "outputs": [
    {
     "data": {
      "text/plain": [
       "0.0008671971275996896"
      ]
     },
     "execution_count": 10,
     "metadata": {},
     "output_type": "execute_result"
    }
   ],
   "source": [
    "## choosing erdos-renyi probability\n",
    "probER=float(g_info['d_avg_und'])/(g_info['N'])\n",
    "probER"
   ]
  },
  {
   "cell_type": "markdown",
   "metadata": {
    "ein.tags": "worksheet-0",
    "slideshow": {
     "slide_type": "-"
    }
   },
   "source": [
    "- The network is sparse?"
   ]
  },
  {
   "cell_type": "code",
   "execution_count": 62,
   "metadata": {
    "autoscroll": false,
    "collapsed": false,
    "ein.tags": "worksheet-0",
    "slideshow": {
     "slide_type": "-"
    }
   },
   "outputs": [
    {
     "data": {
      "text/plain": [
       "0.001158157640820872"
      ]
     },
     "execution_count": 62,
     "metadata": {},
     "output_type": "execute_result"
    }
   ],
   "source": [
    "N = g_info['N']\n",
    "L = g_info['L']\n",
    "L_max = N*(N-1)/2\n",
    "float(L)/L_max"
   ]
  },
  {
   "cell_type": "markdown",
   "metadata": {
    "ein.tags": "worksheet-0",
    "slideshow": {
     "slide_type": "-"
    }
   },
   "source": [
    "# Degree distribution"
   ]
  },
  {
   "cell_type": "markdown",
   "metadata": {
    "ein.tags": "worksheet-0",
    "slideshow": {
     "slide_type": "-"
    }
   },
   "source": [
    "Questions:\n",
    "- chi sono gli users che hanno il valore massimo di degree entrante/uscente?\n",
    "- che caratteristiche in comune hanno?\n"
   ]
  },
  {
   "cell_type": "code",
   "execution_count": 76,
   "metadata": {
    "autoscroll": false,
    "collapsed": false,
    "ein.tags": "worksheet-0",
    "slideshow": {
     "slide_type": "-"
    }
   },
   "outputs": [
    {
     "name": "stdout",
     "output_type": "stream",
     "text": [
      "12939\n",
      "[19064, 14629, 13129, 12200, 10744, 10211, 9677, 8892, 8514, 7594]\n"
     ]
    }
   ],
   "source": [
    "in_degrees = [d for n, d in g.in_degree()]\n",
    "out_degrees = [d for n, d in g.out_degree()]\n",
    "degrees =[d for n,d in g.degree()]\n",
    "\n",
    "# ordinamento\n",
    "in_degrees.sort(reverse=True)\n",
    "out_degrees.sort(reverse=True)\n",
    "degrees.sort(reverse=True)\n",
    "\n",
    "temp = [d for d in in_degrees if d ==0]\n",
    "print len(temp)\n",
    "print in_degrees[:10]"
   ]
  },
  {
   "cell_type": "code",
   "execution_count": 77,
   "metadata": {
    "autoscroll": false,
    "collapsed": false,
    "ein.tags": "worksheet-0",
    "slideshow": {
     "slide_type": "-"
    }
   },
   "outputs": [
    {
     "name": "stdout",
     "output_type": "stream",
     "text": [
      "19065\n",
      "19065\n"
     ]
    }
   ],
   "source": [
    "# in degree\n",
    "in_degree_counts = collections.Counter(d for n, d in g.in_degree())\n",
    "\"\"\"\n",
    "for n, d in g.in_degree():\n",
    "    print (n,d)\n",
    "\"\"\"\n",
    "in_degree_counts = [in_degree_counts.get(i, 0) for i in range(max(in_degree_counts) + 1) ]\n",
    "degree_in= np.arange(len(in_degree_counts))\n",
    "in_degree_probs = np.array(in_degree_counts).astype(float)/g_info['N']\n",
    "print len(degree_in)\n",
    "print len(in_degree_probs)"
   ]
  },
  {
   "cell_type": "code",
   "execution_count": 78,
   "metadata": {
    "autoscroll": false,
    "collapsed": false,
    "ein.tags": "worksheet-0",
    "slideshow": {
     "slide_type": "-"
    }
   },
   "outputs": [],
   "source": [
    "# out degree\n",
    "out_degree_counts = collections.Counter(d for n, d in g.out_degree())\n",
    "out_degree_counts = [out_degree_counts.get(i, 0) for i in range(max(out_degree_counts) + 1)]\n",
    "degree_out= np.arange(len(out_degree_counts))\n",
    "out_degree_probs = np.array(out_degree_counts).astype(float)/g_info['N']\n"
   ]
  },
  {
   "cell_type": "markdown",
   "metadata": {
    "ein.tags": "worksheet-0",
    "slideshow": {
     "slide_type": "-"
    }
   },
   "source": [
    "## Logarithmic binning"
   ]
  },
  {
   "cell_type": "code",
   "execution_count": 183,
   "metadata": {
    "autoscroll": false,
    "collapsed": false,
    "ein.tags": "worksheet-0",
    "slideshow": {
     "slide_type": "-"
    }
   },
   "outputs": [
    {
     "name": "stdout",
     "output_type": "stream",
     "text": [
      "[  2.67670000e+04   3.29600000e+03   1.81425000e+03   8.46875000e+02\n",
      "   3.81000000e+02   1.55375000e+02   5.45156250e+01   1.63281250e+01\n",
      "   3.91406250e+00   8.24218750e-01   1.72851562e-01   2.78320312e-02\n",
      "   5.85937500e-03   9.76562500e-04   6.10351562e-05   0.00000000e+00]\n",
      "[0.71132364478649079, 3.427639563106796, 6.2979192503789445, 11.987158671586716, 23.298392388451443, 45.842719227674976, 90.653768988248785, 178.81291866028707, 355.02994011976045, 686.45260663507111, 1360.0056497175142, 2720.6842105263158, 5206.458333333333, 10999.5, 19064.0, nan]\n"
     ]
    }
   ],
   "source": [
    "degrees = [d for n,d in g.in_degree()]\n",
    "##degrees.sort(reverse=False)\n",
    "\"\"\" computing breaks \"\"\"\n",
    "b = 2 # 2\n",
    "k=0\n",
    "breaks=[]\n",
    "while(b**(k-1)< max(degrees)):\n",
    "    breaks.append(b**k)\n",
    "    k+=1\n",
    "#print breaks    \n",
    "\n",
    "splitted_degrees = {}\n",
    "for br in breaks:\n",
    "    splitted_degrees[br]=[]\n",
    "\n",
    "# splitting the degrees using the breaks\n",
    "for d in degrees:\n",
    "    i=1\n",
    "    while(d>breaks[i]):\n",
    "        i+=1\n",
    "    splitted_degrees[breaks[i-1]].append(d)  \n",
    "\n",
    "d_counts = {}\n",
    "for br in breaks:\n",
    "    d_counts[br]=[]\n",
    "\n",
    "for br in breaks:\n",
    "    d_counts[br] = len(splitted_degrees[br])\n",
    "    \n",
    "#print d_counts.keys()    \n",
    "#print d_counts.values()\n",
    "\n",
    "counts = [d_counts[br] for br in breaks]\n",
    "degree_probs = np.array(counts).astype(float)/np.array(breaks)\n",
    "degree_means = [ np.mean(np.array(splitted_degrees[br])) for br in breaks ]\n",
    "\n",
    "# splitted_degrees\n",
    "# print breaks\n",
    "# print counts\n",
    "print degree_probs\n",
    "print degree_means"
   ]
  },
  {
   "cell_type": "code",
   "execution_count": 90,
   "metadata": {
    "autoscroll": false,
    "collapsed": false,
    "ein.tags": "worksheet-0",
    "slideshow": {
     "slide_type": "-"
    }
   },
   "outputs": [
    {
     "name": "stdout",
     "output_type": "stream",
     "text": [
      "[1, 2, 4, 8, 16, 32, 64, 128, 256, 512, 1024, 2048, 4096]\n",
      "[[1, 0], [2, 0], [4, 0], [8, 0], [16, 0], [32, 0], [64, 0], [128, 42803], [256, 17023], [512, 4321], [1024, 1133], [2048, 360], [4096, 89]]\n",
      "[76, 76, 76, 76, 76, 76, 76, 76, 76, 76]\n"
     ]
    }
   ],
   "source": [
    "counts = [ [b,0] for b in breaks]\n",
    "\n",
    "for d in degrees:\n",
    "    i=0\n",
    "    while(d>breaks[i]):\n",
    "        i+=1\n",
    "    counts[i][1] += 1\n",
    "    \n",
    "print counts\n",
    "\n",
    "print degrees[-10:]\n"
   ]
  },
  {
   "cell_type": "code",
   "execution_count": 85,
   "metadata": {
    "autoscroll": false,
    "collapsed": false,
    "ein.tags": "worksheet-0",
    "slideshow": {
     "slide_type": "-"
    }
   },
   "outputs": [
    {
     "name": "stdout",
     "output_type": "stream",
     "text": [
      "4\n",
      "4\n",
      "0\n",
      "1\n"
     ]
    }
   ],
   "source": [
    "x_counts = [x[0] for x in counts]\n",
    "y_counts = np.array([y[1] for y in counts])/np.array(x_counts)\n",
    "y_counts = [y for y in y_counts if y>0]\n",
    "x_counts = range(len(y_counts))\n",
    "#print y_counts[:10]\n",
    "#print min(y_counts)\n",
    "#print max(y_counts)\n",
    "print len(x_counts)\n",
    "print len(y_counts)\n",
    "print min(x_counts)\n",
    "print min(y_counts)"
   ]
  },
  {
   "cell_type": "code",
   "execution_count": 179,
   "metadata": {
    "autoscroll": false,
    "collapsed": false,
    "ein.tags": "worksheet-0",
    "slideshow": {
     "slide_type": "-"
    }
   },
   "outputs": [
    {
     "name": "stdout",
     "output_type": "stream",
     "text": [
      "2.39\n",
      "1.3\n"
     ]
    },
    {
     "data": {
      "text/plain": [
       "[]"
      ]
     },
     "execution_count": 179,
     "metadata": {},
     "output_type": "execute_result"
    },
    {
     "data": {
      "image/png": "[encoded data removed]",
      "text/plain": [
       "<matplotlib.figure.Figure at 0x7f9cf7e7b5d0>"
      ]
     },
     "metadata": {},
     "output_type": "display_data"
    }
   ],
   "source": [
    "fig, ax = plt.subplots(figsize=FIGSIZE_TWOCOL)\n",
    "MARKERSIZE=20\n",
    "\n",
    "# random networks\n",
    "#plt.plot(er_degree, er_degree_probs, '.', color='deeppink',   label=u'Erdős–Rényi', markersize = MARKERSIZE)\n",
    "plt.plot(degree_means, degree_probs, '.', color='black',   label=u'Barabási-Albert', markersize = MARKERSIZE)\n",
    "\n",
    "gamma_in_1 = regression(degree_means, degree_probs, 7, 14, color=\"yellow\").round(2)\n",
    "gamma_in_2 = regression(degree_means, degree_probs, 2, 7, color=\"yellow\").round(2)\n",
    "print gamma_in_1\n",
    "print gamma_in_2\n",
    "plt.loglog()"
   ]
  },
  {
   "cell_type": "code",
   "execution_count": null,
   "metadata": {
    "autoscroll": false,
    "collapsed": false,
    "ein.tags": "worksheet-0",
    "slideshow": {
     "slide_type": "-"
    }
   },
   "outputs": [],
   "source": []
  },
  {
   "cell_type": "code",
   "execution_count": 40,
   "metadata": {
    "autoscroll": false,
    "collapsed": false,
    "ein.tags": "worksheet-0",
    "slideshow": {
     "slide_type": "-"
    }
   },
   "outputs": [],
   "source": [
    "# total degree\n",
    "degree_counts = collections.Counter(d for n, d in g.degree())\n",
    "degree_counts = [degree_counts.get(i, 0) for i in range(max(degree_counts) + 1) ] #if degree_counts.get(i,0)>0]\n",
    "degree= np.arange(len(degree_counts))\n",
    "degree_probs = np.array(degree_counts).astype(float)/g_info['N']"
   ]
  },
  {
   "cell_type": "code",
   "execution_count": 41,
   "metadata": {
    "autoscroll": false,
    "collapsed": false,
    "ein.tags": "worksheet-0",
    "slideshow": {
     "slide_type": "-"
    }
   },
   "outputs": [],
   "source": [
    "# Erdos-Renyi degree\n",
    "er_degree_counts = collections.Counter(d for n, d in g_er.degree())\n",
    "er_degree_counts = [er_degree_counts.get(i, 0) for i in range(max(er_degree_counts) + 1)]\n",
    "er_degree= np.arange(len(er_degree_counts))\n",
    "er_degree_probs = np.array(er_degree_counts).astype(float)/g_info['N']"
   ]
  },
  {
   "cell_type": "code",
   "execution_count": 42,
   "metadata": {
    "autoscroll": false,
    "collapsed": false,
    "ein.tags": "worksheet-0",
    "slideshow": {
     "slide_type": "-"
    }
   },
   "outputs": [],
   "source": [
    "# Barabasi-Albert degree\n",
    "ba_degree_counts = collections.Counter(d for n, d in g_ba.degree())\n",
    "ba_degree_counts = [ba_degree_counts.get(i, 0) for i in range(max(ba_degree_counts) + 1) ]\n",
    "ba_degree= np.arange(len(ba_degree_counts))\n",
    "ba_degree_probs = np.array(ba_degree_counts).astype(float)/g_ba.number_of_nodes()"
   ]
  },
  {
   "cell_type": "markdown",
   "metadata": {
    "ein.tags": "worksheet-0",
    "slideshow": {
     "slide_type": "-"
    }
   },
   "source": [
    "m = random.randint(1, g.number_of_nodes() - 1)\n",
    "##g_ba_now = nx.barabasi_albert_graph(g.number_of_nodes(), g_info['d_avg']*2)\n",
    "g_ba_now = nx.barabasi_albert_graph(g.number_of_nodes(), 76)\n"
   ]
  },
  {
   "cell_type": "markdown",
   "metadata": {
    "ein.tags": "worksheet-0",
    "slideshow": {
     "slide_type": "-"
    }
   },
   "source": [
    "nx.write_edgelist(g_ba_now, '../network/networks/ba_edge_list_now.txt')"
   ]
  },
  {
   "cell_type": "markdown",
   "metadata": {
    "ein.tags": "worksheet-0",
    "slideshow": {
     "slide_type": "-"
    }
   },
   "source": [
    "# Barabasi-Albert network\n",
    "g_ba = nx.read_edgelist('../network/networks/ba_edge_list_now.txt',\n",
    "                        create_using=nx.Graph(), nodetype=int,\n",
    "                        data=False)"
   ]
  },
  {
   "cell_type": "code",
   "execution_count": 44,
   "metadata": {
    "autoscroll": false,
    "collapsed": false,
    "ein.tags": "worksheet-0",
    "slideshow": {
     "slide_type": "-"
    }
   },
   "outputs": [
    {
     "data": {
      "image/png": "[encoded data removed]",
      "text/plain": [
       "<matplotlib.figure.Figure at 0x7fe02978df10>"
      ]
     },
     "metadata": {},
     "output_type": "display_data"
    }
   ],
   "source": [
    "fig, ax = plt.subplots(figsize=FIGSIZE_TWOCOL)\n",
    "MARKERSIZE=5\n",
    "\n",
    "# random networks\n",
    "#plt.plot(er_degree, er_degree_probs, '.', color='deeppink',   label=u'Erdős–Rényi', markersize = MARKERSIZE)\n",
    "plt.plot(ba_degree, ba_degree_probs, '.', color='black',   label=u'Barabási-Albert', markersize = MARKERSIZE)\n",
    "\n",
    "# real network\n",
    "plt.plot(degree_in, in_degree_probs, '.', color='tomato',   label='In Degree', markersize = MARKERSIZE)\n",
    "plt.plot(degree_out, out_degree_probs, '.', color='blue',   label='Out Degree', markersize = MARKERSIZE)\n",
    "plt.plot(degree, degree_probs, '.', color='green',   label='Degree', markersize = MARKERSIZE)\n",
    "\n",
    "\"\"\"\n",
    "gamma_in_1 = regression(degree_in, in_degree_probs, 100,300, color=\"yellow\").round(2)\n",
    "gamma_in_2 = regression(ba_degree, ba_degree_probs, 100,300, color=\"yellow\").round(2)\n",
    "##plt.plot(range(0, len(hist)), hist, \".\", color='deeppink',\n",
    "##         label=u'Barabási–Albert')\n",
    "print gamma_in_1\n",
    "print gamma_in_2\n",
    "\"\"\"\n",
    "\n",
    "plt.grid()\n",
    "plt.legend()\n",
    "plt.title(\"Degree distributions\")\n",
    "plt.xlabel(\"Degree, $k$\")\n",
    "plt.ylabel(\"Probability density, $p(k)$\")                                     \n",
    "plt.loglog()\n",
    "plt.tight_layout()\n",
    "plt.savefig(\"imgs/degree_distributions.pdf\")                                     "
   ]
  },
  {
   "cell_type": "code",
   "execution_count": 45,
   "metadata": {
    "autoscroll": false,
    "collapsed": false,
    "ein.tags": "worksheet-0",
    "slideshow": {
     "slide_type": "-"
    }
   },
   "outputs": [],
   "source": [
    "# regression testing\n",
    "begin = 30\n",
    "end = 200\n",
    "counts_Y = np.log(in_degree_probs[begin:end])\n",
    "degree_X = np.log(degree_in[begin:end]).astype(float)\n",
    "degree_X=degree_X.reshape(end-begin,1)\n",
    "regr = linear_model.LinearRegression()\n",
    "regr.fit(degree_X, counts_Y)\n",
    "count_pred = regr.predict(degree_X)+0.5"
   ]
  },
  {
   "cell_type": "code",
   "execution_count": 48,
   "metadata": {
    "autoscroll": false,
    "collapsed": false,
    "ein.tags": "worksheet-0",
    "slideshow": {
     "slide_type": "-"
    }
   },
   "outputs": [
    {
     "name": "stdout",
     "output_type": "stream",
     "text": [
      "-1.64533850716\n",
      "0.285776511621\n",
      "0.95378108165\n"
     ]
    }
   ],
   "source": [
    "print regr.coef_[0]\n",
    "print regr.intercept_\n",
    "print regr.score(degree_X, counts_Y)"
   ]
  },
  {
   "cell_type": "code",
   "execution_count": 82,
   "metadata": {
    "autoscroll": false,
    "collapsed": false,
    "ein.tags": "worksheet-0",
    "slideshow": {
     "slide_type": "-"
    }
   },
   "outputs": [],
   "source": [
    "def regression(degree, degree_probs, begin, end, h_adjust=-0, color= \"black\"):\n",
    "    \"\"\"regression analysis between begin and end, \n",
    "    plotting of the line and returns the slope\"\"\"\n",
    "    counts_Y = np.log(degree_probs[begin:end])\n",
    "    degree_X = np.log(degree[begin:end]).astype(float)\n",
    "    degree_X=degree_X.reshape(end-begin,1)\n",
    "    regr = linear_model.LinearRegression()\n",
    "    regr.fit(degree_X, counts_Y)\n",
    "    count_pred = regr.predict(degree_X)+h_adjust\n",
    "    plt.plot( np.exp(degree_X), np.exp(count_pred), color= color)\n",
    "    return -regr.coef_[0]"
   ]
  },
  {
   "cell_type": "markdown",
   "metadata": {
    "ein.tags": "worksheet-0",
    "slideshow": {
     "slide_type": "-"
    }
   },
   "source": [
    "## In-degree distribution"
   ]
  },
  {
   "cell_type": "code",
   "execution_count": 50,
   "metadata": {
    "autoscroll": false,
    "collapsed": false,
    "ein.tags": "worksheet-0",
    "slideshow": {
     "slide_type": "-"
    }
   },
   "outputs": [
    {
     "data": {
      "image/png": "[encoded data removed]",
      "text/plain": [
       "<matplotlib.figure.Figure at 0x7fe10847d890>"
      ]
     },
     "metadata": {},
     "output_type": "display_data"
    }
   ],
   "source": [
    "fig, ax = plt.subplots(figsize = FIGSIZE_ONECOL)\n",
    "plt.plot(degree_in, in_degree_probs, '.', color='tomato',   label='In-degree', markersize = 10)\n",
    "##plt.plot(degree_out, out_degree_probs, '.', color='green',   label='Original')\n",
    "\n",
    "split =20\n",
    "gamma_in_1 = regression(degree_in, in_degree_probs, 1,split).round(2)\n",
    "gamma_in_2 = regression(degree_in, in_degree_probs, split,200).round(2)\n",
    "\n",
    "plt.text(5, (float(1)/10), \"$\\gamma \\sim $ {}\".format(gamma_in_1))\n",
    "plt.text(100,float(1)/700, \"$\\gamma \\sim $ {}\".format(gamma_in_2))\n",
    "plt.text(1,float(1)/5000, \"$p(k) \\sim k^{-\\gamma}  $ \",fontsize =20)\n",
    "# info on the splitting\n",
    "plt.axvline(split, 0,1000, linestyle='--')\n",
    "plt.text(split+1, float(1)/50000, \"$k_{split} \\eqsim$\"+\"{}\".format(20), fontsize=SMALL_SIZE)\n",
    "\n",
    "plt.title(\"In-degree distribution\")\n",
    "plt.xlabel(\"In-degree, $k_{in}$\")\n",
    "plt.ylabel(\"Probability density, $p(k)$\")                               \n",
    "plt.loglog()\n",
    "plt.grid()\n",
    "plt.tight_layout()\n",
    "plt.savefig(\"imgs/in_degree_distribution.pdf\")                                     "
   ]
  },
  {
   "cell_type": "markdown",
   "metadata": {
    "ein.tags": "worksheet-0",
    "slideshow": {
     "slide_type": "-"
    }
   },
   "source": [
    "## Out-degree distribution"
   ]
  },
  {
   "cell_type": "code",
   "execution_count": 51,
   "metadata": {
    "autoscroll": false,
    "collapsed": false,
    "ein.tags": "worksheet-0",
    "slideshow": {
     "slide_type": "-"
    }
   },
   "outputs": [
    {
     "data": {
      "image/png": "[encoded data removed]",
      "text/plain": [
       "<matplotlib.figure.Figure at 0x7fe02c28a050>"
      ]
     },
     "metadata": {},
     "output_type": "display_data"
    }
   ],
   "source": [
    "fig, ax = plt.subplots(figsize = FIGSIZE_ONECOL)\n",
    "#fig, ax = plt.subplots(figsize = (20,10))\n",
    "plt.plot(degree_out, out_degree_probs, '.', color='blue',   label='Out-degree', markersize = 10)\n",
    "##plt.plot(degree_out, out_degree_probs, '.', color='green',   label='Original')\n",
    "\n",
    "split =30\n",
    "gamma_out_1 = regression(degree_out, out_degree_probs, 1,split).round(2)\n",
    "gamma_out_2 = regression(degree_out, out_degree_probs, split, 200).round(2)\n",
    "\n",
    "plt.text(5, (float(1)/20), \"$\\gamma \\sim $ {}\".format(gamma_out_1))\n",
    "plt.text(200,float(1)/700, \"$\\gamma \\sim $ {}\".format(gamma_out_2))\n",
    "plt.text(1,float(1)/5000, \"$p(k) \\sim k^{-\\gamma}  $ \",fontsize =20)\n",
    "# info on the splitting\n",
    "plt.axvline(split, 0,1000, linestyle='--')\n",
    "plt.text(split+1, float(1)/50000, \"$k_{split} \\eqsim$\"+\"{}\".format(split), fontsize=SMALL_SIZE)\n",
    "\n",
    "plt.title(\"Out-degree distribution\")\n",
    "plt.xlabel(\"Out-degree, $k_{out}$\")\n",
    "plt.ylabel(\"Probability density, $p(k)$\")                               \n",
    "plt.loglog()\n",
    "plt.grid()\n",
    "plt.tight_layout()\n",
    "plt.savefig(\"imgs/out_degree_distribution.pdf\")                                     "
   ]
  },
  {
   "cell_type": "markdown",
   "metadata": {
    "ein.tags": "worksheet-0",
    "slideshow": {
     "slide_type": "-"
    }
   },
   "source": [
    "# Connected components"
   ]
  },
  {
   "cell_type": "code",
   "execution_count": 9,
   "metadata": {
    "autoscroll": false,
    "collapsed": false,
    "ein.tags": "worksheet-0",
    "slideshow": {
     "slide_type": "-"
    }
   },
   "outputs": [
    {
     "name": "stdout",
     "output_type": "stream",
     "text": [
      "False\n",
      "False\n"
     ]
    },
    {
     "name": "stdout",
     "output_type": "stream",
     "text": [
      "True\n",
      "True\n",
      "True"
     ]
    },
    {
     "name": "stdout",
     "output_type": "stream",
     "text": [
      "\n"
     ]
    }
   ],
   "source": [
    "print nx.is_strongly_connected(g)\n",
    "print nx.is_weakly_connected(g)\n",
    "print nx.is_strongly_connected(g_er)\n",
    "print nx.is_weakly_connected(g_er)\n",
    "\n",
    "\n",
    "print nx.is_connected(g_ba)"
   ]
  },
  {
   "cell_type": "code",
   "execution_count": 68,
   "metadata": {
    "autoscroll": false,
    "collapsed": false,
    "ein.tags": "worksheet-0",
    "slideshow": {
     "slide_type": "-"
    }
   },
   "outputs": [
    {
     "name": "stdout",
     "output_type": "stream",
     "text": [
      "15757\n"
     ]
    },
    {
     "name": "stdout",
     "output_type": "stream",
     "text": [
      "62\n"
     ]
    }
   ],
   "source": [
    "print nx.number_strongly_connected_components(g)\n",
    "print nx.number_weakly_connected_components(g)"
   ]
  },
  {
   "cell_type": "code",
   "execution_count": null,
   "metadata": {
    "autoscroll": false,
    "collapsed": false,
    "ein.tags": "worksheet-0",
    "slideshow": {
     "slide_type": "-"
    }
   },
   "outputs": [],
   "source": [
    "        print 'The Erdős–Rényi network is strongly connected with ' + \\\n",
    "            str(nx.number_strongly_connected_components(er_g)) + ' strongly ' \\\n",
    "            'connected components'\n",
    "    elif nx.is_weakly_connected(er_g):\n",
    "        print 'The Erdős–Rényi is weakly connected with ' + \\\n",
    "            str(nx.number_weakly_connected_components(er_g)) + \\\n",
    "            ' weakly connected components'\n",
    "    else:\n",
    "        print 'The Erdős–Rényi is neither strongly connected nor weakly ' + \\\n",
    "            'connected'\n",
    "\n",
    "    if nx.is_connected(ba_g):\n",
    "        print 'The Barabási–Albert network is connected with ' + \\\n",
    "            str(nx.number_connected_components(ba_g)) + \\\n",
    "            ' connected components'\n",
    "    else:\n",
    "        print 'The Barabási–Albert is not connected'\n"
   ]
  },
  {
   "cell_type": "code",
   "execution_count": 10,
   "metadata": {
    "autoscroll": false,
    "collapsed": false,
    "ein.tags": "worksheet-0",
    "slideshow": {
     "slide_type": "-"
    }
   },
   "outputs": [],
   "source": [
    "g_weak = collections.Counter(len(c)\n",
    "                                 for c in nx.weakly_connected_components(g))\n",
    "g_strong = collections.Counter(\n",
    "        len(c)for c in nx.strongly_connected_components(g)\n",
    "    )\n",
    "er_weak = collections.Counter(len(c) for c in nx.\n",
    "                                  weakly_connected_components(g_er))\n",
    "er_strong = collections.Counter(len(c) for c in nx.\n",
    "                                    strongly_connected_components(g_er))"
   ]
  },
  {
   "cell_type": "code",
   "execution_count": 11,
   "metadata": {
    "autoscroll": false,
    "collapsed": false,
    "ein.tags": "worksheet-0",
    "slideshow": {
     "slide_type": "-"
    }
   },
   "outputs": [
    {
     "data": {
      "text/plain": [
       "Counter({65729: 1})"
      ]
     },
     "execution_count": 11,
     "metadata": {},
     "output_type": "execute_result"
    }
   ],
   "source": [
    "er_weak"
   ]
  },
  {
   "cell_type": "code",
   "execution_count": 29,
   "metadata": {
    "autoscroll": false,
    "collapsed": false,
    "ein.tags": "worksheet-0",
    "slideshow": {
     "slide_type": "-"
    }
   },
   "outputs": [],
   "source": [
    "x_weak = list(np.union1d(g_weak.keys(), er_weak.keys()))\n",
    "x_strong = list(np.union1d(g_strong.keys(), er_strong.keys()))\n",
    "y_weak = [g_weak[k] if k in g_weak else 0 for k in x_weak]\n",
    "y_strong = [g_strong[k] if k in g_strong else 0 for k in x_strong]\n",
    "y_weak_er = [er_weak[k] if k in er_weak else 0 for k in x_weak]\n",
    "\n",
    "import copy\n",
    "y_weak_lab = copy.copy(y_weak)\n",
    "y_weak_lab[-1] =1\n",
    "\n",
    "y_strong_lab = copy.copy(y_strong)\n",
    "y_strong_lab[-1] =1\n"
   ]
  },
  {
   "cell_type": "code",
   "execution_count": 71,
   "metadata": {
    "autoscroll": false,
    "collapsed": false,
    "ein.tags": "worksheet-0",
    "slideshow": {
     "slide_type": "-"
    }
   },
   "outputs": [
    {
     "data": {
      "image/png": "[encoded data removed]",
      "text/plain": [
       "<matplotlib.figure.Figure at 0x7f9d1b5c8190>"
      ]
     },
     "metadata": {},
     "output_type": "display_data"
    }
   ],
   "source": [
    "#plt.subplots(figsize = (10,10))\n",
    "plt.subplots(figsize = FIGSIZE_TWOCOL)\n",
    "\n",
    "plt.subplot(121)\n",
    "plt.bar(range(len(x_weak)),y_weak,\n",
    "            color='tomato', label='Original', alpha=.8)\n",
    "\n",
    "for i in range(len(x_weak)):\n",
    "    plt.text( i, y_weak_lab[i]+1, y_weak_lab[i] )\n",
    "\n",
    "plt.bar(range(len(x_weak)), y_weak_er,\n",
    "         color='steelblue', label=u'Erdős–Rényi', alpha=.8)\n",
    "plt.xticks(range(len(x_weak)), x_weak, rotation = 30)\n",
    "plt.title('Weakly connected components')\n",
    "plt.xlabel('Size of the connected components')\n",
    "plt.ylabel(' Number of components')\n",
    "plt.legend()\n",
    "plt.ylim(0,60)\n",
    "\n",
    "plt.subplot(122)\n",
    "plt.bar(range(len(x_strong)),\n",
    "        [g_strong[k] if k in g_strong else 0 for k in x_strong],\n",
    "        color='tomato', label='Original', log=True, alpha=.8)\n",
    "plt.bar(range(len(x_strong)),\n",
    "        [er_strong[k] if k in er_strong else 0 for k in x_strong],\n",
    "        color='steelblue', label=u'Erdős–Rényi', log=True, alpha=.8)\n",
    "for i in range(len(x_strong)):\n",
    "    plt.text( i, y_strong_lab[i], y_strong_lab[i] )\n",
    "\n",
    "plt.xticks(range(len(x_strong)), x_strong, rotation =30)\n",
    "plt.title('Strongly connected components')\n",
    "plt.xlabel('Size of the connected components')\n",
    "plt.ylabel('Number of components')\n",
    "plt.legend()\n",
    "\n",
    "plt.subplots_adjust(left=0.125, right=0.9, bottom=0.1, top=1.4, wspace=0.2,\n",
    "                    hspace=0.2)\n",
    "\n",
    "plt.tight_layout()\n",
    "plt.savefig('./imgs/connectivity.pdf', format='pdf')\n"
   ]
  }
 ],
 "metadata": {
  "kernelspec": {
   "display_name": "Python 2",
   "name": "python2"
  },
  "name": "degree_distributions.ipynb"
 },
 "nbformat": 4,
 "nbformat_minor": 2
}
