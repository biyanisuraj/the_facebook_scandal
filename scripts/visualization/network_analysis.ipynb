{
 "cells": [
  {
   "cell_type": "code",
   "execution_count": 1,
   "metadata": {
    "ExecuteTime": {
     "end_time": "2018-05-19T15:47:02.873809Z",
     "start_time": "2018-05-19T15:47:01.661342Z"
    }
   },
   "outputs": [],
   "source": [
    "import collections\n",
    "import math\n",
    "from matplotlib import patches\n",
    "import matplotlib.pyplot as plt\n",
    "import networkx as nx\n",
    "from pprint import pprint"
   ]
  },
  {
   "cell_type": "code",
   "execution_count": 2,
   "metadata": {
    "ExecuteTime": {
     "end_time": "2018-05-19T15:47:02.885385Z",
     "start_time": "2018-05-19T15:47:02.879618Z"
    }
   },
   "outputs": [],
   "source": [
    "plt.rcParams[\"figure.figsize\"] = [12., 6.]"
   ]
  },
  {
   "cell_type": "code",
   "execution_count": null,
   "metadata": {
    "ExecuteTime": {
     "start_time": "2018-05-19T15:47:01.662Z"
    }
   },
   "outputs": [],
   "source": [
    "g = nx.read_edgelist('../network/edge_list.txt', \n",
    "                     create_using=nx.DiGraph(), nodetype=int, data=False)"
   ]
  },
  {
   "cell_type": "markdown",
   "metadata": {},
   "source": [
    "# Nodes, edges and selfloops"
   ]
  },
  {
   "cell_type": "code",
   "execution_count": null,
   "metadata": {
    "ExecuteTime": {
     "start_time": "2018-05-19T15:47:01.665Z"
    }
   },
   "outputs": [],
   "source": [
    "print 'Number of nodes: ' + str(g.number_of_nodes())\n",
    "print 'Number of edges: ' + str(g.number_of_edges())\n",
    "print 'Number of selfloops: ' + str(g.number_of_selfloops())"
   ]
  },
  {
   "cell_type": "code",
   "execution_count": null,
   "metadata": {
    "ExecuteTime": {
     "start_time": "2018-05-19T15:47:01.668Z"
    }
   },
   "outputs": [],
   "source": [
    "g.is_directed()"
   ]
  },
  {
   "cell_type": "markdown",
   "metadata": {},
   "source": [
    "# In-degree distribution"
   ]
  },
  {
   "cell_type": "code",
   "execution_count": null,
   "metadata": {
    "ExecuteTime": {
     "start_time": "2018-05-19T15:47:01.670Z"
    }
   },
   "outputs": [],
   "source": [
    "in_degrees = sorted(dict(g.in_degree()).values())\n",
    "ideal_bins = math.ceil(math.log(len(in_degrees), 2)) + 1\n",
    "patch = [patches.Patch(label='Max in-degree: ' + str(max(in_degrees))),\n",
    "         patches.Patch(label='Min in-degree: ' + str(min(in_degrees))),\n",
    "         patches.Patch(label='Average in-degree: ' + str(sum(in_degrees)/len(in_degrees)))]\n",
    "\n",
    "plt.hist(in_degrees, bins=int(ideal_bins), log=True)\n",
    "plt.title('In-degree distribution')\n",
    "plt.xlabel('In-degree')\n",
    "plt.ylabel('Nodes')\n",
    "plt.legend(handles=patch, bbox_to_anchor=(1.05, 1), loc=2, borderaxespad=0.)\n",
    "plt.show()"
   ]
  },
  {
   "cell_type": "markdown",
   "metadata": {},
   "source": [
    "# Out-degree distribution"
   ]
  },
  {
   "cell_type": "code",
   "execution_count": null,
   "metadata": {
    "ExecuteTime": {
     "start_time": "2018-05-19T15:47:01.673Z"
    }
   },
   "outputs": [],
   "source": [
    "out_degrees = sorted(dict(g.out_degree()).values())\n",
    "ideal_bins = math.ceil(math.log(len(out_degrees), 2)) + 1\n",
    "patch = [patches.Patch(label='Max out-degree: ' + str(max(out_degrees))),\n",
    "         patches.Patch(label='Min out-degree: ' + str(min(out_degrees))),\n",
    "         patches.Patch(label='Average out-degree: ' + str(sum(out_degrees)/len(out_degrees)))]\n",
    "\n",
    "plt.hist(out_degrees, bins=int(ideal_bins), log=True)\n",
    "plt.title('Out-degree distribution')\n",
    "plt.xlabel('Out-degree')\n",
    "plt.ylabel('Nodes')\n",
    "plt.legend(handles=patch, bbox_to_anchor=(1.05, 1), loc=2, borderaxespad=0.)\n",
    "plt.show()"
   ]
  },
  {
   "cell_type": "markdown",
   "metadata": {},
   "source": [
    "# Degree distribution"
   ]
  },
  {
   "cell_type": "code",
   "execution_count": null,
   "metadata": {
    "ExecuteTime": {
     "start_time": "2018-05-19T15:47:01.676Z"
    }
   },
   "outputs": [],
   "source": [
    "degrees = sorted(dict(g.degree()).values())\n",
    "ideal_bins = math.ceil(math.log(len(out_degrees), 2)) + 1\n",
    "patch = [patches.Patch(label='Max degree: ' + str(max(degrees))),\n",
    "         patches.Patch(label='Min degree: ' + str(min(degrees))),\n",
    "         patches.Patch(label='Average degree: ' + str(sum(degrees)/len(degrees)))]\n",
    "\n",
    "plt.hist(degrees, bins=int(ideal_bins), log=True)\n",
    "plt.title('Degree distribution')\n",
    "plt.xlabel('Degree')\n",
    "plt.ylabel('Nodes')\n",
    "plt.legend(handles=patch, bbox_to_anchor=(1.05, 1), loc=2, borderaxespad=0.)\n",
    "plt.show()"
   ]
  },
  {
   "cell_type": "markdown",
   "metadata": {},
   "source": [
    "# Connectivity"
   ]
  },
  {
   "cell_type": "code",
   "execution_count": null,
   "metadata": {
    "ExecuteTime": {
     "start_time": "2018-05-19T15:47:01.679Z"
    }
   },
   "outputs": [],
   "source": [
    "if nx.is_strongly_connected(g):\n",
    "    print 'The Graph is strongly connected with ' + \\\n",
    "        str(nx.number_strongly_connected_components(g)) + ' strongly ' \\\n",
    "        'connected components'\n",
    "elif nx.is_weakly_connected(g):\n",
    "    print 'The Graph is weakly connected with ' + \\\n",
    "        str(nx.number_weakly_connected_components(g)) + ' weakly connected' \\\n",
    "        ' components'\n",
    "else:\n",
    "    print 'The Graph is neither strongly connected nor weakly connected'\n",
    "\n",
    "weakcon_components = nx.weakly_connected_components(g)\n",
    "strongcon_components = nx.strongly_connected_components(g)\n",
    "weakcon_components = [len(c) for c in sorted(weakcon_components, key=len, \n",
    "                                             reverse=True)]\n",
    "strongcon_components = [len(c) for c in sorted(strongcon_components, key=len,\n",
    "                                              reverse=True)]\n",
    "c_weak = collections.Counter()\n",
    "c_strong = collections.Counter()\n",
    "\n",
    "for con in weakcon_components:\n",
    "    c_weak.update(str(con))\n",
    "\n",
    "for con in strongcon_components:\n",
    "    c_strong.update(str(con))\n",
    "\n",
    "c_weak = dict(c_weak)\n",
    "c_strong = dict(c_strong)\n",
    "\n",
    "plt.subplot(211)\n",
    "plt.bar(range(0, len(c_weak.values())), [c_weak[k] for k in sorted(c_weak)])\n",
    "plt.xticks(range(0, len(c_weak.values())), sorted(c_weak.keys()))\n",
    "plt.title('Weakly connected components by length')\n",
    "plt.xlabel('Lenght')\n",
    "plt.ylabel('Connected components')\n",
    "plt.subplot(212)\n",
    "plt.title('Strongly connected components by length')\n",
    "plt.bar(range(0, len(c_strong.values())), [c_strong[k] for k in sorted(c_strong)])\n",
    "plt.xticks(range(0, len(c_strong.values())), sorted(c_strong.keys()))\n",
    "plt.xlabel('Lenght')\n",
    "plt.ylabel('Connected components')\n",
    "plt.subplots_adjust(left=0.125, right=0.9, bottom=0.1, top=1.4, wspace=0.2,\n",
    "                   hspace=0.2)\n",
    "plt.show()"
   ]
  },
  {
   "cell_type": "markdown",
   "metadata": {},
   "source": [
    "# Density"
   ]
  },
  {
   "cell_type": "code",
   "execution_count": null,
   "metadata": {
    "ExecuteTime": {
     "start_time": "2018-05-19T15:47:01.682Z"
    }
   },
   "outputs": [],
   "source": [
    "print \"The Graph's density is \" + str(nx.density(g))"
   ]
  },
  {
   "cell_type": "markdown",
   "metadata": {},
   "source": [
    "# Closeness centrality"
   ]
  },
  {
   "cell_type": "code",
   "execution_count": null,
   "metadata": {
    "ExecuteTime": {
     "start_time": "2018-05-19T15:47:01.685Z"
    }
   },
   "outputs": [],
   "source": [
    "to_check = 20\n",
    "nodes = g.node.items()[0:to_check]\n",
    "clos_cent = list()\n",
    "\n",
    "for node in nodes:\n",
    "    clos_cent.append(nx.closeness_centrality(g, node[0]))\n",
    "\n",
    "clos_cent = sorted(clos_cent)\n",
    "\n",
    "plt.hist(clos_cent)\n",
    "plt.title('Number of nodes per closeness centrality on a sample of ' \\\n",
    "          + str(to_check) + ' nodes')\n",
    "plt.xticks([0., 0.25, 0.5, 0.75, 1.], ['0.', '0.25', '0.5', '0.75', '1.'])\n",
    "plt.xlabel('Closeness Centrality')\n",
    "plt.ylabel('Nodes')\n",
    "plt.show()"
   ]
  },
  {
   "cell_type": "code",
   "execution_count": null,
   "metadata": {},
   "outputs": [],
   "source": []
  }
 ],
 "metadata": {
  "kernelspec": {
   "display_name": "Python 2",
   "language": "python",
   "name": "python2"
  },
  "language_info": {
   "codemirror_mode": {
    "name": "ipython",
    "version": 2
   },
   "file_extension": ".py",
   "mimetype": "text/x-python",
   "name": "python",
   "nbconvert_exporter": "python",
   "pygments_lexer": "ipython2",
   "version": "2.7.15"
  },
  "varInspector": {
   "cols": {
    "lenName": 16,
    "lenType": 16,
    "lenVar": 40
   },
   "kernels_config": {
    "python": {
     "delete_cmd_postfix": "",
     "delete_cmd_prefix": "del ",
     "library": "var_list.py",
     "varRefreshCmd": "print(var_dic_list())"
    },
    "r": {
     "delete_cmd_postfix": ") ",
     "delete_cmd_prefix": "rm(",
     "library": "var_list.r",
     "varRefreshCmd": "cat(var_dic_list()) "
    }
   },
   "types_to_exclude": [
    "module",
    "function",
    "builtin_function_or_method",
    "instance",
    "_Feature"
   ],
   "window_display": false
  }
 },
 "nbformat": 4,
 "nbformat_minor": 2
}
