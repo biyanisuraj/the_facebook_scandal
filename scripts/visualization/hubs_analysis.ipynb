{
 "cells": [
  {
   "cell_type": "code",
   "execution_count": 1,
   "metadata": {
    "autoscroll": false,
    "collapsed": false,
    "ein.tags": "worksheet-0",
    "slideshow": {
     "slide_type": "-"
    }
   },
   "outputs": [],
   "source": [
    "import numpy as np\n",
    "import pandas as pd\n",
    "from pymongo import MongoClient\n",
    "import pymongo\n",
    "from pprint import pprint "
   ]
  },
  {
   "cell_type": "code",
   "execution_count": 2,
   "metadata": {
    "autoscroll": false,
    "collapsed": false,
    "ein.tags": "worksheet-0",
    "slideshow": {
     "slide_type": "-"
    }
   },
   "outputs": [],
   "source": [
    "# plot settings\n",
    "import matplotlib.pyplot as plt\n",
    "\n",
    "FIGSIZE_TWOCOL = (10,5)\n",
    "FIGSIZE_ONECOL = (5,5)\n",
    "\n",
    "SMALL_SIZE = 13\n",
    "MEDIUM_SIZE = 15\n",
    "BIGGER_SIZE = 20\n",
    "\n",
    "plt.rc('font', size= MEDIUM_SIZE)          # controls default text sizes\n",
    "plt.rc('axes', titlesize= MEDIUM_SIZE)     # fontsize of the axes title\n",
    "plt.rc('axes', labelsize= MEDIUM_SIZE)    # fontsize of the x and y labels\n",
    "plt.rc('xtick', labelsize=SMALL_SIZE)    # fontsize of the tick labels\n",
    "plt.rc('ytick', labelsize=SMALL_SIZE)    # fontsize of the tick labels\n",
    "plt.rc('legend', fontsize=SMALL_SIZE)    # legend fontsize\n",
    "plt.rc('figure', titlesize=BIGGER_SIZE)  # fontsize of the figure title\n"
   ]
  },
  {
   "cell_type": "code",
   "execution_count": 3,
   "metadata": {
    "autoscroll": false,
    "collapsed": false,
    "ein.tags": "worksheet-0",
    "slideshow": {
     "slide_type": "-"
    }
   },
   "outputs": [],
   "source": [
    "df=pd.read_csv('hubs.csv')"
   ]
  },
  {
   "cell_type": "code",
   "execution_count": 4,
   "metadata": {
    "autoscroll": false,
    "collapsed": false,
    "ein.tags": "worksheet-0",
    "slideshow": {
     "slide_type": "-"
    }
   },
   "outputs": [
    {
     "data": {
      "text/plain": [
       "   Unnamed: 0  degree        id         C        cc  in_degree  out_degree\n0          73   19065    807095  0.002633  0.417001      19064           9\n1         204   14637   1652541  0.003601  0.510699      14629          47\n2         277   13144   2467791  0.004233  0.440488      13129          56\n3           1   12217  87818409  0.004283  0.434341      12200          54\n4         141   10752    816653  0.002871  0.459824      10744          29"
      ]
     },
     "execution_count": 4,
     "metadata": {},
     "output_type": "execute_result"
    }
   ],
   "source": [
    "df.head()"
   ]
  },
  {
   "cell_type": "code",
   "execution_count": 5,
   "metadata": {
    "autoscroll": false,
    "collapsed": false,
    "ein.tags": "worksheet-0",
    "slideshow": {
     "slide_type": "-"
    }
   },
   "outputs": [],
   "source": [
    "CLIENT = MongoClient()\n",
    "DB = CLIENT['social_database_test']\n",
    "db = CLIENT.social_database_test"
   ]
  },
  {
   "cell_type": "code",
   "execution_count": 6,
   "metadata": {
    "autoscroll": false,
    "collapsed": false,
    "ein.tags": "worksheet-0",
    "slideshow": {
     "slide_type": "-"
    }
   },
   "outputs": [],
   "source": [
    "tweets = db.merged_03_17_25"
   ]
  },
  {
   "cell_type": "code",
   "execution_count": 249,
   "metadata": {
    "autoscroll": false,
    "collapsed": false,
    "ein.tags": "worksheet-0",
    "slideshow": {
     "slide_type": "-"
    }
   },
   "outputs": [
    {
     "name": "stdout",
     "output_type": "stream",
     "text": [
      "[u'The New York Times', u'Reuters Top News', u'Washington Post', u'The Guardian', u'TechCrunch', u'TIME', u'HuffPost', u'Forbes', u'The Onion', u'BBC News (UK)']\n",
      "[u'@nytimes', u'@Reuters', u'@washingtonpost', u'@guardian', u'@TechCrunch', u'@TIME', u'@HuffPost', u'@Forbes', u'@TheOnion', u'@BBCNews']\n"
     ]
    }
   ],
   "source": [
    "names=[]\n",
    "screen_names = []\n",
    "followers = []\n",
    "friends = []\n",
    "for i in range(df.shape[0]):\n",
    "    for userid in tweets.find( {\"id\":int (df['id'][i])}):\n",
    "        names.append( userid['name'] )\n",
    "        screen_names.append( '@'+userid['screen_name'] )\n",
    "        followers.append(userid['followers_count'])\n",
    "        friends.append(userid['friends_count'])\n",
    "\n",
    "print names[:10]\n",
    "print screen_names[:10]"
   ]
  },
  {
   "cell_type": "code",
   "execution_count": 250,
   "metadata": {
    "autoscroll": false,
    "collapsed": false,
    "ein.tags": "worksheet-0",
    "slideshow": {
     "slide_type": "-"
    }
   },
   "outputs": [
    {
     "data": {
      "text/plain": [
       "{u'_id': ObjectId('5b17c2a5e4721c6552885fd1'),\n",
       " u'created_at': u'Mon Mar 12 23:09:05 +0000 2007',\n",
       " u'day': 19,\n",
       " u'favorite_count': 24,\n",
       " u'favourites_count': 7502,\n",
       " u'followers_count': 31333,\n",
       " u'friends_count': 9491,\n",
       " u'hashtags': [u'deletefacebook'],\n",
       " u'hour': 22,\n",
       " u'id': 1051731,\n",
       " u'lang': u'en',\n",
       " u'name': u'David Berkowitz',\n",
       " u'retweets': 0,\n",
       " u'screen_name': u'dberkowitz',\n",
       " u'statuses_count': 18904,\n",
       " u'tweet_created_at': u'Mon Mar 19 22:34:59 +0000 2018',\n",
       " u'tweets': 4}"
      ]
     },
     "execution_count": 250,
     "metadata": {},
     "output_type": "execute_result"
    }
   ],
   "source": [
    "tweets.find_one()"
   ]
  },
  {
   "cell_type": "code",
   "execution_count": 251,
   "metadata": {
    "autoscroll": false,
    "collapsed": false,
    "ein.tags": "worksheet-0",
    "slideshow": {
     "slide_type": "-"
    }
   },
   "outputs": [],
   "source": [
    "df['name'] = names\n",
    "df['screen_name'] = screen_names\n",
    "df['followers'] = followers\n",
    "df['friends'] = friends"
   ]
  },
  {
   "cell_type": "code",
   "execution_count": 252,
   "metadata": {
    "autoscroll": false,
    "collapsed": false,
    "ein.tags": "worksheet-0",
    "slideshow": {
     "slide_type": "-"
    }
   },
   "outputs": [],
   "source": [
    "df = df.sort_values('in_degree', ascending=False)"
   ]
  },
  {
   "cell_type": "code",
   "execution_count": 363,
   "metadata": {
    "autoscroll": false,
    "collapsed": false,
    "ein.tags": "worksheet-0",
    "slideshow": {
     "slide_type": "-"
    }
   },
   "outputs": [],
   "source": [
    "df['Interest'] = df['in_degree']/df['followers']\n",
    "df['LogInterest'] = np.log10(df['in_degree'])/np.log10(df['followers'])"
   ]
  },
  {
   "cell_type": "code",
   "execution_count": 378,
   "metadata": {
    "autoscroll": false,
    "collapsed": false,
    "ein.tags": "worksheet-0",
    "slideshow": {
     "slide_type": "-"
    }
   },
   "outputs": [
    {
     "data": {
      "image/png": "[encoded data removed]",
      "text/plain": [
       "<matplotlib.figure.Figure at 0x7f7d345b8fd0>"
      ]
     },
     "metadata": {},
     "output_type": "display_data"
    }
   ],
   "source": [
    "fig,ax = plt.subplots(figsize = (10,6))\n",
    "n = 20\n",
    "plt.plot(df['followers'][:n], df['degree'][:n], 'o')\n",
    "for i in range(n):\n",
    "    plt.text(df['followers'][i],df['degree'][i]+500, str(df['name'][i]),ha ='center', fontsize =13)\n",
    "\n",
    "plt.xlabel('Followers on Twitter')\n",
    "plt.ylabel('In degree, $k_{in}$')\n",
    "plt.title('Top {} biggest hubs'.format(n))\n",
    "plt.xlim(10**6-100000, 10**8)    \n",
    "plt.ylim(4*10**3, 2*10**4+3000)\n",
    "ax.set_xscale('log')\n",
    "#plt.loglog()\n",
    "plt.tight_layout()\n",
    "plt.savefig('./imgs/hubs_followers.pdf', format='pdf')"
   ]
  },
  {
   "cell_type": "code",
   "execution_count": 379,
   "metadata": {
    "autoscroll": false,
    "collapsed": false,
    "ein.tags": "worksheet-0",
    "slideshow": {
     "slide_type": "-"
    }
   },
   "outputs": [],
   "source": [
    "df_interest = df.sort_values('in_degree',ascending=False).iloc[:n]\n",
    "df_interest = df_interest.sort_values('Interest')"
   ]
  },
  {
   "cell_type": "code",
   "execution_count": 380,
   "metadata": {
    "autoscroll": false,
    "collapsed": false,
    "ein.tags": "worksheet-0",
    "slideshow": {
     "slide_type": "-"
    }
   },
   "outputs": [],
   "source": [
    "lab_screen =df_interest['screen_name'][:n]\n",
    "lab =df_interest['name'][:n]\n",
    "lab = lab+\" \"+lab_screen\n",
    "nums = range(n,0,-1)\n",
    "lab = [ l+\", \"+str(nums[i])   for i,l in enumerate(lab) ]"
   ]
  },
  {
   "cell_type": "code",
   "execution_count": 381,
   "metadata": {
    "autoscroll": false,
    "collapsed": false,
    "ein.tags": "worksheet-0",
    "slideshow": {
     "slide_type": "-"
    }
   },
   "outputs": [
    {
     "data": {
      "image/png": "[encoded data removed]",
      "text/plain": [
       "<matplotlib.figure.Figure at 0x7f7d365c4950>"
      ]
     },
     "metadata": {},
     "output_type": "display_data"
    }
   ],
   "source": [
    "plt.subplots(figsize=(10,10))\n",
    "X=df_interest['Interest'][:n]*100\n",
    "#X=df_interest['Interest'][:n]\n",
    "plt.barh(range(n), X)\n",
    "#plt.barh(range(n),df_interest['followers'])\n",
    "##plt.barh(range(n),df_interest['C'])\n",
    "plt.yticks( range(n),lab)\n",
    "plt.title('The top {} biggest hubs, ranked by Interest'.format(n))\n",
    "plt.xlabel('Interest (%)')\n",
    "plt.tight_layout()\n",
    "plt.savefig('./imgs/hubs_interest.pdf', format='pdf')"
   ]
  },
  {
   "cell_type": "code",
   "execution_count": 310,
   "metadata": {
    "autoscroll": false,
    "collapsed": false,
    "ein.tags": "worksheet-0",
    "slideshow": {
     "slide_type": "-"
    }
   },
   "outputs": [
    {
     "data": {
      "text/plain": [
       "    Unnamed: 0  degree        id         C        cc  in_degree  out_degree  \\\n",
       "16           9    5461    788524  0.009302  0.429528       5438          54   \n",
       "15         214    5491  14763734  0.004315  0.398339       5215        4102   \n",
       "27           4    4512   2884771  0.010711  0.407444       4507          17   \n",
       "13          75    5991  49698134  0.014402  0.422554       5921         174   \n",
       "26          76    4667  16012783  0.013409  0.387894       4646          47   \n",
       "\n",
       "               name     screen_name  followers  friends  Interest  \n",
       "16   Digital Trends  @DigitalTrends    2063955  1239048  0.002635  \n",
       "15            Slate          @Slate    1798290      622  0.002900  \n",
       "27  The Daily Beast  @thedailybeast    1166723      939  0.003863  \n",
       "13         Joy Reid     @JoyAnnReid    1163897     4930  0.005087  \n",
       "26    Scott Dworkin         @funder     319901    46448  0.014523  "
      ]
     },
     "execution_count": 310,
     "metadata": {},
     "output_type": "execute_result"
    }
   ],
   "source": [
    "df_interest.tail()"
   ]
  },
  {
   "cell_type": "code",
   "execution_count": 311,
   "metadata": {
    "autoscroll": false,
    "collapsed": false,
    "ein.tags": "worksheet-0",
    "slideshow": {
     "slide_type": "-"
    }
   },
   "outputs": [
    {
     "data": {
      "text/plain": [
       "[]"
      ]
     },
     "execution_count": 311,
     "metadata": {},
     "output_type": "execute_result"
    },
    {
     "data": {
      "image/png": "[encoded data removed]",
      "text/plain": [
       "<matplotlib.figure.Figure at 0x7f7d35009a50>"
      ]
     },
     "metadata": {},
     "output_type": "display_data"
    }
   ],
   "source": [
    "plt.plot(df['Interest'],df['C'], 'o')\n",
    "plt.loglog()"
   ]
  },
  {
   "cell_type": "code",
   "execution_count": 93,
   "metadata": {
    "autoscroll": false,
    "collapsed": false,
    "ein.tags": "worksheet-0",
    "slideshow": {
     "slide_type": "-"
    }
   },
   "outputs": [
    {
     "data": {
      "text/plain": [
       "   Unnamed: 0  degree        id         C        cc                name  \\\n",
       "0          73   19065    807095  0.002633  0.417001  The New York Times   \n",
       "1         204   14637   1652541  0.003601  0.510699    Reuters Top News   \n",
       "2         277   13144   2467791  0.004233  0.440488     Washington Post   \n",
       "3           1   12217  87818409  0.004283  0.434341        The Guardian   \n",
       "4         141   10752    816653  0.002871  0.459824          TechCrunch   \n",
       "5          22   10223  14293310  0.004226  0.384827                TIME   \n",
       "6         247    9736  14511951  0.005690  0.432582            HuffPost   \n",
       "7         301    8915  91478624  0.003641  0.407271              Forbes   \n",
       "8         146    8514  14075928  0.003293  0.442905           The Onion   \n",
       "9         224    7594    612473  0.004596  0.471411       BBC News (UK)   \n",
       "\n",
       "   followers  friends  Interest  \n",
       "0   41595294      879  0.000458  \n",
       "1   19554136     1068  0.000749  \n",
       "2   12338937     1473  0.001065  \n",
       "3    7116469     1106  0.001717  \n",
       "4   10211927     1012  0.001053  \n",
       "5   15439102      842  0.000662  \n",
       "6   11503332     5710  0.000846  \n",
       "7   14702910     5681  0.000606  \n",
       "8   11334224       16  0.000751  \n",
       "9    9310660       99  0.000816  "
      ]
     },
     "execution_count": 93,
     "metadata": {},
     "output_type": "execute_result"
    }
   ],
   "source": [
    "df.iloc[:10]"
   ]
  },
  {
   "cell_type": "code",
   "execution_count": 100,
   "metadata": {
    "autoscroll": false,
    "collapsed": false,
    "ein.tags": "worksheet-0",
    "slideshow": {
     "slide_type": "-"
    }
   },
   "outputs": [
    {
     "data": {
      "text/plain": [
       "    Unnamed: 0  degree        id         C        cc             name  \\\n",
       "12         188    6005  15012486  0.007782  0.409685         CBS News   \n",
       "4          141   10752    816653  0.002871  0.459824       TechCrunch   \n",
       "2          277   13144   2467791  0.004233  0.440488  Washington Post   \n",
       "10         283    7262  34713362  0.005709  0.408234        Bloomberg   \n",
       "3            1   12217  87818409  0.004283  0.434341     The Guardian   \n",
       "\n",
       "    followers  friends  Interest  \n",
       "12    6486398      431  0.000926  \n",
       "4    10211927     1012  0.001053  \n",
       "2    12338937     1473  0.001065  \n",
       "10    4687113     1103  0.001549  \n",
       "3     7116469     1106  0.001717  "
      ]
     },
     "execution_count": 100,
     "metadata": {},
     "output_type": "execute_result"
    }
   ],
   "source": [
    "df_interest.tail()"
   ]
  },
  {
   "cell_type": "code",
   "execution_count": 17,
   "metadata": {
    "autoscroll": false,
    "collapsed": false,
    "ein.tags": "worksheet-0",
    "slideshow": {
     "slide_type": "-"
    }
   },
   "outputs": [
    {
     "data": {
      "text/plain": [
       "{u'_id': ObjectId('5b17c2a5e4721c6552885fd1'),\n u'created_at': u'Mon Mar 12 23:09:05 +0000 2007',\n u'day': 19,\n u'favorite_count': 24,\n u'favourites_count': 7502,\n u'followers_count': 31333,\n u'friends_count': 9491,\n u'hashtags': [u'deletefacebook'],\n u'hour': 22,\n u'id': 1051731,\n u'lang': u'en',\n u'name': u'David Berkowitz',\n u'retweets': 0,\n u'screen_name': u'dberkowitz',\n u'statuses_count': 18904,\n u'tweet_created_at': u'Mon Mar 19 22:34:59 +0000 2018',\n u'tweets': 4}"
      ]
     },
     "execution_count": 17,
     "metadata": {},
     "output_type": "execute_result"
    }
   ],
   "source": [
    "tweets.find_one()"
   ]
  },
  {
   "cell_type": "markdown",
   "metadata": {
    "ein.tags": "worksheet-0",
    "slideshow": {
     "slide_type": "-"
    }
   },
   "source": [
    "# prova estrazione italiani"
   ]
  },
  {
   "cell_type": "code",
   "execution_count": 12,
   "metadata": {
    "autoscroll": false,
    "collapsed": false,
    "ein.tags": "worksheet-0",
    "slideshow": {
     "slide_type": "-"
    }
   },
   "outputs": [],
   "source": [
    "import collections\n",
    "import networkx as nx\n",
    "import numpy as np\n",
    "import os\n",
    "import random\n",
    "from sklearn import linear_model\n",
    "import json as json\n"
   ]
  },
  {
   "cell_type": "code",
   "execution_count": null,
   "metadata": {
    "autoscroll": false,
    "collapsed": false,
    "ein.tags": "worksheet-0",
    "slideshow": {
     "slide_type": "-"
    }
   },
   "outputs": [],
   "source": [
    "g = nx.read_edgelist('../network/networks/edge_list.txt',\n",
    "                     create_using=nx.DiGraph(), nodetype=int, data=False)"
   ]
  },
  {
   "cell_type": "code",
   "execution_count": 16,
   "metadata": {
    "autoscroll": false,
    "collapsed": false,
    "ein.tags": "worksheet-0",
    "slideshow": {
     "slide_type": "-"
    }
   },
   "outputs": [],
   "source": [
    "temp = g.nodes()\n",
    "nodes = [nd for nd in temp]\n"
   ]
  },
  {
   "cell_type": "code",
   "execution_count": 39,
   "metadata": {
    "autoscroll": false,
    "collapsed": false,
    "ein.tags": "worksheet-0",
    "slideshow": {
     "slide_type": "-"
    }
   },
   "outputs": [],
   "source": [
    "names=[]\n",
    "screen_names = []\n",
    "followers = []\n",
    "friends = []\n",
    "users = []\n",
    "\n",
    "for userid in tweets.find( {\"lang\": \"it\"}).sort('followers_count', pymongo.DESCENDING):\n",
    "    users.append(userid)\n",
    "    names.append( userid['name'] )\n",
    "    screen_names.append( '@'+userid['screen_name'] )\n",
    "    followers.append(userid['followers_count'])\n",
    "    friends.append(userid['friends_count'])\n"
   ]
  },
  {
   "cell_type": "code",
   "execution_count": 51,
   "metadata": {
    "autoscroll": false,
    "collapsed": false,
    "ein.tags": "worksheet-0",
    "slideshow": {
     "slide_type": "-"
    }
   },
   "outputs": [],
   "source": [
    "user_ids_db = [u['id'] for u in users]"
   ]
  },
  {
   "cell_type": "code",
   "execution_count": 53,
   "metadata": {
    "autoscroll": false,
    "collapsed": false,
    "ein.tags": "worksheet-0",
    "slideshow": {
     "slide_type": "-"
    }
   },
   "outputs": [],
   "source": [
    "italian_users = set(nodes) & set(user_ids_db)"
   ]
  },
  {
   "cell_type": "code",
   "execution_count": 54,
   "metadata": {
    "autoscroll": false,
    "collapsed": false,
    "ein.tags": "worksheet-0",
    "slideshow": {
     "slide_type": "-"
    }
   },
   "outputs": [
    {
     "data": {
      "text/plain": [
       "2392"
      ]
     },
     "execution_count": 54,
     "metadata": {},
     "output_type": "execute_result"
    }
   ],
   "source": [
    "len(italian_users)"
   ]
  },
  {
   "cell_type": "code",
   "execution_count": 55,
   "metadata": {
    "autoscroll": false,
    "collapsed": false,
    "ein.tags": "worksheet-0",
    "slideshow": {
     "slide_type": "-"
    }
   },
   "outputs": [
    {
     "data": {
      "text/plain": [
       "2464"
      ]
     },
     "execution_count": 55,
     "metadata": {},
     "output_type": "execute_result"
    }
   ],
   "source": [
    "len(names)"
   ]
  }
 ],
 "metadata": {
  "kernelspec": {
   "display_name": "Python 2",
   "name": "python2"
  },
  "name": "hubs_analysis.ipynb"
 },
 "nbformat": 4,
 "nbformat_minor": 2
}
